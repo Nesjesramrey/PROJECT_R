{
  "nbformat": 4,
  "nbformat_minor": 0,
  "metadata": {
    "colab": {
      "name": "M4S02.ipynb",
      "provenance": [],
      "collapsed_sections": [],
      "mount_file_id": "1mMdz3Ql5Y_mvEe26GatM4cyyuOZMtxfV",
      "authorship_tag": "ABX9TyN2ercZv0pQnM+yF+xVKc+a",
      "include_colab_link": true
    },
    "kernelspec": {
      "name": "python3",
      "display_name": "Python 3"
    }
  },
  "cells": [
    {
      "cell_type": "markdown",
      "metadata": {
        "id": "view-in-github",
        "colab_type": "text"
      },
      "source": [
        "<a href=\"https://colab.research.google.com/github/Nesjesramrey/PROJECT_R/blob/main/M4S02.ipynb\" target=\"_parent\"><img src=\"https://colab.research.google.com/assets/colab-badge.svg\" alt=\"Open In Colab\"/></a>"
      ]
    },
    {
      "cell_type": "markdown",
      "metadata": {
        "id": "BGu1XyyVqyUo"
      },
      "source": [
        "# **BOXSPLOTS**"
      ]
    },
    {
      "cell_type": "code",
      "metadata": {
        "id": "27rJK4D88E-t"
      },
      "source": [
        "import seaborn as sns\r\n",
        "import matplotlib.pyplot as plt\r\n",
        "import pandas as pd"
      ],
      "execution_count": 1,
      "outputs": []
    },
    {
      "cell_type": "code",
      "metadata": {
        "id": "kk5JsjgoAUWA"
      },
      "source": [
        "df = pd.read_csv('/content/drive/MyDrive/Colab Notebooks/Datasets/melbourne_housing-clean.csv')"
      ],
      "execution_count": 2,
      "outputs": []
    },
    {
      "cell_type": "code",
      "metadata": {
        "colab": {
          "base_uri": "https://localhost:8080/",
          "height": 204
        },
        "id": "aFoLin2nAvF5",
        "outputId": "4e65b83a-6740-45d1-d2ac-0392c537cbcf"
      },
      "source": [
        "df.head()"
      ],
      "execution_count": 3,
      "outputs": [
        {
          "output_type": "execute_result",
          "data": {
            "text/html": [
              "<div>\n",
              "<style scoped>\n",
              "    .dataframe tbody tr th:only-of-type {\n",
              "        vertical-align: middle;\n",
              "    }\n",
              "\n",
              "    .dataframe tbody tr th {\n",
              "        vertical-align: top;\n",
              "    }\n",
              "\n",
              "    .dataframe thead th {\n",
              "        text-align: right;\n",
              "    }\n",
              "</style>\n",
              "<table border=\"1\" class=\"dataframe\">\n",
              "  <thead>\n",
              "    <tr style=\"text-align: right;\">\n",
              "      <th></th>\n",
              "      <th>Unnamed: 0</th>\n",
              "      <th>suburb</th>\n",
              "      <th>address</th>\n",
              "      <th>rooms</th>\n",
              "      <th>type</th>\n",
              "      <th>price</th>\n",
              "      <th>method</th>\n",
              "      <th>seller_g</th>\n",
              "      <th>date</th>\n",
              "      <th>distance</th>\n",
              "      <th>postcode</th>\n",
              "      <th>bedroom_2</th>\n",
              "      <th>bathroom</th>\n",
              "      <th>car</th>\n",
              "      <th>land_size</th>\n",
              "      <th>council_area</th>\n",
              "      <th>latitude</th>\n",
              "      <th>longitude</th>\n",
              "      <th>region_name</th>\n",
              "      <th>property_count</th>\n",
              "    </tr>\n",
              "  </thead>\n",
              "  <tbody>\n",
              "    <tr>\n",
              "      <th>0</th>\n",
              "      <td>0</td>\n",
              "      <td>Abbotsford</td>\n",
              "      <td>85 Turner St</td>\n",
              "      <td>2</td>\n",
              "      <td>h</td>\n",
              "      <td>1480000.0</td>\n",
              "      <td>S</td>\n",
              "      <td>Biggin</td>\n",
              "      <td>3/12/2016</td>\n",
              "      <td>2.5</td>\n",
              "      <td>3067.0</td>\n",
              "      <td>2.0</td>\n",
              "      <td>1.0</td>\n",
              "      <td>1.0</td>\n",
              "      <td>202.0</td>\n",
              "      <td>Yarra</td>\n",
              "      <td>-37.7996</td>\n",
              "      <td>144.9984</td>\n",
              "      <td>Northern Metropolitan</td>\n",
              "      <td>4019.0</td>\n",
              "    </tr>\n",
              "    <tr>\n",
              "      <th>1</th>\n",
              "      <td>1</td>\n",
              "      <td>Abbotsford</td>\n",
              "      <td>25 Bloomburg St</td>\n",
              "      <td>2</td>\n",
              "      <td>h</td>\n",
              "      <td>1035000.0</td>\n",
              "      <td>S</td>\n",
              "      <td>Biggin</td>\n",
              "      <td>4/02/2016</td>\n",
              "      <td>2.5</td>\n",
              "      <td>3067.0</td>\n",
              "      <td>2.0</td>\n",
              "      <td>1.0</td>\n",
              "      <td>0.0</td>\n",
              "      <td>156.0</td>\n",
              "      <td>Yarra</td>\n",
              "      <td>-37.8079</td>\n",
              "      <td>144.9934</td>\n",
              "      <td>Northern Metropolitan</td>\n",
              "      <td>4019.0</td>\n",
              "    </tr>\n",
              "    <tr>\n",
              "      <th>2</th>\n",
              "      <td>2</td>\n",
              "      <td>Abbotsford</td>\n",
              "      <td>5 Charles St</td>\n",
              "      <td>3</td>\n",
              "      <td>h</td>\n",
              "      <td>1465000.0</td>\n",
              "      <td>SP</td>\n",
              "      <td>Biggin</td>\n",
              "      <td>4/03/2017</td>\n",
              "      <td>2.5</td>\n",
              "      <td>3067.0</td>\n",
              "      <td>3.0</td>\n",
              "      <td>2.0</td>\n",
              "      <td>0.0</td>\n",
              "      <td>134.0</td>\n",
              "      <td>Yarra</td>\n",
              "      <td>-37.8093</td>\n",
              "      <td>144.9944</td>\n",
              "      <td>Northern Metropolitan</td>\n",
              "      <td>4019.0</td>\n",
              "    </tr>\n",
              "    <tr>\n",
              "      <th>3</th>\n",
              "      <td>3</td>\n",
              "      <td>Abbotsford</td>\n",
              "      <td>40 Federation La</td>\n",
              "      <td>3</td>\n",
              "      <td>h</td>\n",
              "      <td>850000.0</td>\n",
              "      <td>PI</td>\n",
              "      <td>Biggin</td>\n",
              "      <td>4/03/2017</td>\n",
              "      <td>2.5</td>\n",
              "      <td>3067.0</td>\n",
              "      <td>3.0</td>\n",
              "      <td>2.0</td>\n",
              "      <td>1.0</td>\n",
              "      <td>94.0</td>\n",
              "      <td>Yarra</td>\n",
              "      <td>-37.7969</td>\n",
              "      <td>144.9969</td>\n",
              "      <td>Northern Metropolitan</td>\n",
              "      <td>4019.0</td>\n",
              "    </tr>\n",
              "    <tr>\n",
              "      <th>4</th>\n",
              "      <td>4</td>\n",
              "      <td>Abbotsford</td>\n",
              "      <td>55a Park St</td>\n",
              "      <td>4</td>\n",
              "      <td>h</td>\n",
              "      <td>1600000.0</td>\n",
              "      <td>VB</td>\n",
              "      <td>Nelson</td>\n",
              "      <td>4/06/2016</td>\n",
              "      <td>2.5</td>\n",
              "      <td>3067.0</td>\n",
              "      <td>3.0</td>\n",
              "      <td>1.0</td>\n",
              "      <td>2.0</td>\n",
              "      <td>120.0</td>\n",
              "      <td>Yarra</td>\n",
              "      <td>-37.8072</td>\n",
              "      <td>144.9941</td>\n",
              "      <td>Northern Metropolitan</td>\n",
              "      <td>4019.0</td>\n",
              "    </tr>\n",
              "  </tbody>\n",
              "</table>\n",
              "</div>"
            ],
            "text/plain": [
              "   Unnamed: 0      suburb  ...            region_name  property_count\n",
              "0           0  Abbotsford  ...  Northern Metropolitan          4019.0\n",
              "1           1  Abbotsford  ...  Northern Metropolitan          4019.0\n",
              "2           2  Abbotsford  ...  Northern Metropolitan          4019.0\n",
              "3           3  Abbotsford  ...  Northern Metropolitan          4019.0\n",
              "4           4  Abbotsford  ...  Northern Metropolitan          4019.0\n",
              "\n",
              "[5 rows x 20 columns]"
            ]
          },
          "metadata": {
            "tags": []
          },
          "execution_count": 3
        }
      ]
    },
    {
      "cell_type": "code",
      "metadata": {
        "colab": {
          "base_uri": "https://localhost:8080/",
          "height": 296
        },
        "id": "XGx2cHUDo9PM",
        "outputId": "7c31a2fe-4989-42fc-f153-6643273e3e15"
      },
      "source": [
        "sns.set_style(\"whitegrid\") # Establece el estilo de la gráfica (https://seaborn.pydata.org/tutorial/aesthetics.html)\r\n",
        "sns.boxplot(x=df['price'])"
      ],
      "execution_count": 4,
      "outputs": [
        {
          "output_type": "execute_result",
          "data": {
            "text/plain": [
              "<matplotlib.axes._subplots.AxesSubplot at 0x7f1817bb9a90>"
            ]
          },
          "metadata": {
            "tags": []
          },
          "execution_count": 4
        },
        {
          "output_type": "display_data",
          "data": {
            "image/png": "[encoded data removed]",
            "text/plain": [
              "<Figure size 432x288 with 1 Axes>"
            ]
          },
          "metadata": {
            "tags": []
          }
        }
      ]
    },
    {
      "cell_type": "code",
      "metadata": {
        "colab": {
          "base_uri": "https://localhost:8080/",
          "height": 302
        },
        "id": "uSKQOhxFpNuJ",
        "outputId": "a8782425-dac1-4a0a-93a6-d57ef40ef902"
      },
      "source": [
        "sns.set(style=\"whitegrid\")\r\n",
        "sns.boxplot(x=df['price'])\r\n",
        "plt.axvline(df['price'].mean(), c='y') # (valor de la línea, color)"
      ],
      "execution_count": 5,
      "outputs": [
        {
          "output_type": "execute_result",
          "data": {
            "text/plain": [
              "<matplotlib.lines.Line2D at 0x7f1817afd2e8>"
            ]
          },
          "metadata": {
            "tags": []
          },
          "execution_count": 5
        },
        {
          "output_type": "display_data",
          "data": {
            "image/png": "[encoded data removed]",
            "text/plain": [
              "<Figure size 432x288 with 1 Axes>"
            ]
          },
          "metadata": {
            "tags": []
          }
        }
      ]
    },
    {
      "cell_type": "code",
      "metadata": {
        "id": "Bcx6z4JPqSjq"
      },
      "source": [
        "iqr = df['price'].quantile(0.75) - df['price'].quantile(0.25)\r\n",
        "filtro_inferior = df['price'] > df['price'].quantile(0.25) - (iqr * 1.5)\r\n",
        "filtro_superior = df['price'] < df['price'].quantile(0.75) + (iqr * 1.5)\r\n",
        "\r\n",
        "df_filtrado = df[filtro_inferior & filtro_superior]"
      ],
      "execution_count": 6,
      "outputs": []
    },
    {
      "cell_type": "code",
      "metadata": {
        "colab": {
          "base_uri": "https://localhost:8080/",
          "height": 302
        },
        "id": "rofIKICAqUKY",
        "outputId": "76247a0f-f694-4abc-86a9-a349dfe8be9a"
      },
      "source": [
        "sns.boxplot(x=df_filtrado['price'])"
      ],
      "execution_count": 7,
      "outputs": [
        {
          "output_type": "execute_result",
          "data": {
            "text/plain": [
              "<matplotlib.axes._subplots.AxesSubplot at 0x7f180ee28278>"
            ]
          },
          "metadata": {
            "tags": []
          },
          "execution_count": 7
        },
        {
          "output_type": "display_data",
          "data": {
            "image/png": "[encoded data removed]",
            "text/plain": [
              "<Figure size 432x288 with 1 Axes>"
            ]
          },
          "metadata": {
            "tags": []
          }
        }
      ]
    },
    {
      "cell_type": "markdown",
      "metadata": {
        "id": "8Ke_TbrNqlXo"
      },
      "source": [
        "# **TABLA DE FRECUENCIAS**"
      ]
    },
    {
      "cell_type": "code",
      "metadata": {
        "colab": {
          "base_uri": "https://localhost:8080/"
        },
        "id": "0A6kgM1-qtx_",
        "outputId": "205dc882-ffb5-49d5-9196-b71fecfb1696"
      },
      "source": [
        "prices = df['price']\r\n",
        "prices.max() - prices.min() #rango"
      ],
      "execution_count": 8,
      "outputs": [
        {
          "output_type": "execute_result",
          "data": {
            "text/plain": [
              "8915000.0"
            ]
          },
          "metadata": {
            "tags": []
          },
          "execution_count": 8
        }
      ]
    },
    {
      "cell_type": "code",
      "metadata": {
        "colab": {
          "base_uri": "https://localhost:8080/"
        },
        "id": "hjqkbfmCq-K-",
        "outputId": "d0b11351-d3ab-4442-d138-d84a6180f1a3"
      },
      "source": [
        "pd.cut(prices, 20) # cut divide la serie en segmentos"
      ],
      "execution_count": 9,
      "outputs": [
        {
          "output_type": "execute_result",
          "data": {
            "text/plain": [
              "0        (1422250.0, 1868000.0]\n",
              "1         (976500.0, 1422250.0]\n",
              "2        (1422250.0, 1868000.0]\n",
              "3          (530750.0, 976500.0]\n",
              "4        (1422250.0, 1868000.0]\n",
              "                  ...          \n",
              "11641      (530750.0, 976500.0]\n",
              "11642     (976500.0, 1422250.0]\n",
              "11643      (530750.0, 976500.0]\n",
              "11644    (2313750.0, 2759500.0]\n",
              "11645      (530750.0, 976500.0]\n",
              "Name: price, Length: 11646, dtype: category\n",
              "Categories (20, interval[float64]): [(76085.0, 530750.0] < (530750.0, 976500.0] < (976500.0, 1422250.0] <\n",
              "                                     (1422250.0, 1868000.0] ... (7217000.0, 7662750.0] <\n",
              "                                     (7662750.0, 8108500.0] < (8108500.0, 8554250.0] <\n",
              "                                     (8554250.0, 9000000.0]]"
            ]
          },
          "metadata": {
            "tags": []
          },
          "execution_count": 9
        }
      ]
    },
    {
      "cell_type": "code",
      "metadata": {
        "colab": {
          "base_uri": "https://localhost:8080/"
        },
        "id": "QZlyk44ErOdd",
        "outputId": "43907ced-fc36-41a4-fc89-f5ff505a2b02"
      },
      "source": [
        "segmentos = pd.cut(prices, 20)\r\n",
        "\r\n",
        "df['price'].groupby(segmentos).count() # SELECT price,  count(*) FROM df GROUP BY price"
      ],
      "execution_count": 10,
      "outputs": [
        {
          "output_type": "execute_result",
          "data": {
            "text/plain": [
              "price\n",
              "(76085.0, 530750.0]       1747\n",
              "(530750.0, 976500.0]      4835\n",
              "(976500.0, 1422250.0]     2664\n",
              "(1422250.0, 1868000.0]    1278\n",
              "(1868000.0, 2313750.0]     570\n",
              "(2313750.0, 2759500.0]     261\n",
              "(2759500.0, 3205250.0]     141\n",
              "(3205250.0, 3651000.0]      67\n",
              "(3651000.0, 4096750.0]      40\n",
              "(4096750.0, 4542500.0]      16\n",
              "(4542500.0, 4988250.0]      10\n",
              "(4988250.0, 5434000.0]       5\n",
              "(5434000.0, 5879750.0]       7\n",
              "(5879750.0, 6325500.0]       1\n",
              "(6325500.0, 6771250.0]       1\n",
              "(6771250.0, 7217000.0]       0\n",
              "(7217000.0, 7662750.0]       1\n",
              "(7662750.0, 8108500.0]       1\n",
              "(8108500.0, 8554250.0]       0\n",
              "(8554250.0, 9000000.0]       1\n",
              "Name: price, dtype: int64"
            ]
          },
          "metadata": {
            "tags": []
          },
          "execution_count": 10
        }
      ]
    },
    {
      "cell_type": "markdown",
      "metadata": {
        "id": "YxePH13brmAW"
      },
      "source": [
        "# **HISTOGRAMA**"
      ]
    },
    {
      "cell_type": "code",
      "metadata": {
        "id": "R8_3OZ2Nrjki"
      },
      "source": [
        "sns.set(style='white')"
      ],
      "execution_count": 11,
      "outputs": []
    },
    {
      "cell_type": "code",
      "metadata": {
        "colab": {
          "base_uri": "https://localhost:8080/",
          "height": 357
        },
        "id": "Ez__978prkiY",
        "outputId": "81777513-1edb-44fa-f8e1-5c9c535dc1cb"
      },
      "source": [
        "sns.distplot(df['price'], kde=False, norm_hist=False, bins=20)"
      ],
      "execution_count": 12,
      "outputs": [
        {
          "output_type": "stream",
          "text": [
            "/usr/local/lib/python3.6/dist-packages/seaborn/distributions.py:2557: FutureWarning: `distplot` is a deprecated function and will be removed in a future version. Please adapt your code to use either `displot` (a figure-level function with similar flexibility) or `histplot` (an axes-level function for histograms).\n",
            "  warnings.warn(msg, FutureWarning)\n"
          ],
          "name": "stderr"
        },
        {
          "output_type": "execute_result",
          "data": {
            "text/plain": [
              "<matplotlib.axes._subplots.AxesSubplot at 0x7f180eb1dd30>"
            ]
          },
          "metadata": {
            "tags": []
          },
          "execution_count": 12
        },
        {
          "output_type": "display_data",
          "data": {
            "image/png": "[encoded data removed]",
            "text/plain": [
              "<Figure size 432x288 with 1 Axes>"
            ]
          },
          "metadata": {
            "tags": []
          }
        }
      ]
    },
    {
      "cell_type": "code",
      "metadata": {
        "colab": {
          "base_uri": "https://localhost:8080/",
          "height": 367
        },
        "id": "DboPYtwYsDKn",
        "outputId": "728c47f0-bfee-4895-c37a-b9afc3633485"
      },
      "source": [
        "sns.distplot(df['price'], kde=True, norm_hist=False, bins=20)"
      ],
      "execution_count": 14,
      "outputs": [
        {
          "output_type": "stream",
          "text": [
            "/usr/local/lib/python3.6/dist-packages/seaborn/distributions.py:2557: FutureWarning: `distplot` is a deprecated function and will be removed in a future version. Please adapt your code to use either `displot` (a figure-level function with similar flexibility) or `histplot` (an axes-level function for histograms).\n",
            "  warnings.warn(msg, FutureWarning)\n"
          ],
          "name": "stderr"
        },
        {
          "output_type": "execute_result",
          "data": {
            "text/plain": [
              "<matplotlib.axes._subplots.AxesSubplot at 0x7f180eb6fac8>"
            ]
          },
          "metadata": {
            "tags": []
          },
          "execution_count": 14
        },
        {
          "output_type": "display_data",
          "data": {
            "image/png": "[encoded data removed]",
            "text/plain": [
              "<Figure size 432x288 with 1 Axes>"
            ]
          },
          "metadata": {
            "tags": []
          }
        }
      ]
    },
    {
      "cell_type": "code",
      "metadata": {
        "colab": {
          "base_uri": "https://localhost:8080/",
          "height": 356
        },
        "id": "ikqgujsur_dB",
        "outputId": "66abd484-46b0-4f3f-932c-1e43bcdbf6ed"
      },
      "source": [
        "sns.set(style='ticks')\r\n",
        "sns.distplot(df['price'], kde=False, norm_hist=False, bins=100)"
      ],
      "execution_count": 13,
      "outputs": [
        {
          "output_type": "stream",
          "text": [
            "/usr/local/lib/python3.6/dist-packages/seaborn/distributions.py:2557: FutureWarning: `distplot` is a deprecated function and will be removed in a future version. Please adapt your code to use either `displot` (a figure-level function with similar flexibility) or `histplot` (an axes-level function for histograms).\n",
            "  warnings.warn(msg, FutureWarning)\n"
          ],
          "name": "stderr"
        },
        {
          "output_type": "execute_result",
          "data": {
            "text/plain": [
              "<matplotlib.axes._subplots.AxesSubplot at 0x7f180eac2dd8>"
            ]
          },
          "metadata": {
            "tags": []
          },
          "execution_count": 13
        },
        {
          "output_type": "display_data",
          "data": {
            "image/png": "[encoded data removed]",
            "text/plain": [
              "<Figure size 432x288 with 1 Axes>"
            ]
          },
          "metadata": {
            "tags": []
          }
        }
      ]
    },
    {
      "cell_type": "markdown",
      "metadata": {
        "id": "kM43X9_lw8T0"
      },
      "source": [
        "# **DESCRIBIENDO HISTOGRAMAS**"
      ]
    },
    {
      "cell_type": "code",
      "metadata": {
        "id": "ouJIHWGIw_j6"
      },
      "source": [
        "from scipy.stats import skew, kurtosis\r\n",
        "\r\n",
        "sns.set(style='white')"
      ],
      "execution_count": 35,
      "outputs": []
    },
    {
      "cell_type": "code",
      "metadata": {
        "id": "bDw4HAG8xFtS"
      },
      "source": [
        "normal = np.random.normal(loc=0, scale=5, size=10000)"
      ],
      "execution_count": 37,
      "outputs": []
    },
    {
      "cell_type": "code",
      "metadata": {
        "colab": {
          "base_uri": "https://localhost:8080/",
          "height": 322
        },
        "id": "rECsdI8RxRX9",
        "outputId": "a5727fbf-105c-4380-bacf-de6cfa3cbd40"
      },
      "source": [
        "sns.distplot(normal, kde=False, norm_hist=False);"
      ],
      "execution_count": 38,
      "outputs": [
        {
          "output_type": "stream",
          "text": [
            "/usr/local/lib/python3.6/dist-packages/seaborn/distributions.py:2557: FutureWarning: `distplot` is a deprecated function and will be removed in a future version. Please adapt your code to use either `displot` (a figure-level function with similar flexibility) or `histplot` (an axes-level function for histograms).\n",
            "  warnings.warn(msg, FutureWarning)\n"
          ],
          "name": "stderr"
        },
        {
          "output_type": "display_data",
          "data": {
            "image/png": "[encoded data removed]",
            "text/plain": [
              "<Figure size 432x288 with 1 Axes>"
            ]
          },
          "metadata": {
            "tags": []
          }
        }
      ]
    },
    {
      "cell_type": "code",
      "metadata": {
        "colab": {
          "base_uri": "https://localhost:8080/"
        },
        "id": "JNVIRe2kxWPB",
        "outputId": "801c8de0-30d4-4c2a-ed83-d00a494134b2"
      },
      "source": [
        "print(f'Curtosis: {kurtosis(normal)}')\r\n",
        "print(f'Asimetría: {skew(normal)}')"
      ],
      "execution_count": 39,
      "outputs": [
        {
          "output_type": "stream",
          "text": [
            "Curtosis: -0.007484261281481608\n",
            "Asimetría: 0.017048523511225232\n"
          ],
          "name": "stdout"
        }
      ]
    },
    {
      "cell_type": "code",
      "metadata": {
        "id": "CH-pfCD2xYN_"
      },
      "source": [
        "cola_corta = np.array([2, 2, 3, 3, 3, 3, 3, 3, 4, 4, 4, 4, 4, 4, 4, 4, 5, 5, 5, 5, 5, 5, 5, 5, 6, 6, 6, 6, 6, 6, 6, 7, 7, 7, 7, 7, 8, 8, 8])\r\n"
      ],
      "execution_count": 40,
      "outputs": []
    },
    {
      "cell_type": "code",
      "metadata": {
        "colab": {
          "base_uri": "https://localhost:8080/",
          "height": 322
        },
        "id": "EJHpN51qxcxr",
        "outputId": "988a0e02-a9f5-4e7f-eeb9-446c95034078"
      },
      "source": [
        "sns.distplot(cola_corta, kde=False, norm_hist=False, bins=7);"
      ],
      "execution_count": 41,
      "outputs": [
        {
          "output_type": "stream",
          "text": [
            "/usr/local/lib/python3.6/dist-packages/seaborn/distributions.py:2557: FutureWarning: `distplot` is a deprecated function and will be removed in a future version. Please adapt your code to use either `displot` (a figure-level function with similar flexibility) or `histplot` (an axes-level function for histograms).\n",
            "  warnings.warn(msg, FutureWarning)\n"
          ],
          "name": "stderr"
        },
        {
          "output_type": "display_data",
          "data": {
            "image/png": "[encoded data removed]",
            "text/plain": [
              "<Figure size 432x288 with 1 Axes>"
            ]
          },
          "metadata": {
            "tags": []
          }
        }
      ]
    },
    {
      "cell_type": "code",
      "metadata": {
        "colab": {
          "base_uri": "https://localhost:8080/"
        },
        "id": "9fiJ8c8ixh44",
        "outputId": "5d7b99a6-5949-4d84-b998-af22774b7579"
      },
      "source": [
        "print(f'Curtosis: {kurtosis(cola_corta)}')\r\n",
        "print(f'Asimetría: {skew(cola_corta)}')"
      ],
      "execution_count": 42,
      "outputs": [
        {
          "output_type": "stream",
          "text": [
            "Curtosis: -0.8509615384615383\n",
            "Asimetría: 0.10598753694734905\n"
          ],
          "name": "stdout"
        }
      ]
    },
    {
      "cell_type": "code",
      "metadata": {
        "colab": {
          "base_uri": "https://localhost:8080/"
        },
        "id": "ByfvzAOhxleL",
        "outputId": "80434043-f7b4-48dd-fe74-0d56f9649a78"
      },
      "source": [
        "cola_larga = np.random.laplace(loc=0.0, scale=1, size=10000)\r\n"
      ],
      "execution_count": 84,
      "outputs": [
        {
          "output_type": "stream",
          "text": [
            "[ 1.99662968  0.55473271 -0.03395906 ...  0.57445652 -3.53916651\n",
            " -0.03783296]\n"
          ],
          "name": "stdout"
        }
      ]
    },
    {
      "cell_type": "code",
      "metadata": {
        "colab": {
          "base_uri": "https://localhost:8080/",
          "height": 322
        },
        "id": "AqtUXbfexmyy",
        "outputId": "fcbaeb9c-9a7e-44b8-ab0b-333562715f07"
      },
      "source": [
        "sns.distplot(cola_larga, kde=False, norm_hist=False);"
      ],
      "execution_count": 44,
      "outputs": [
        {
          "output_type": "stream",
          "text": [
            "/usr/local/lib/python3.6/dist-packages/seaborn/distributions.py:2557: FutureWarning: `distplot` is a deprecated function and will be removed in a future version. Please adapt your code to use either `displot` (a figure-level function with similar flexibility) or `histplot` (an axes-level function for histograms).\n",
            "  warnings.warn(msg, FutureWarning)\n"
          ],
          "name": "stderr"
        },
        {
          "output_type": "display_data",
          "data": {
            "image/png": "[encoded data removed]",
            "text/plain": [
              "<Figure size 432x288 with 1 Axes>"
            ]
          },
          "metadata": {
            "tags": []
          }
        }
      ]
    },
    {
      "cell_type": "code",
      "metadata": {
        "colab": {
          "base_uri": "https://localhost:8080/"
        },
        "id": "VgQLyCPNxpWX",
        "outputId": "d2d63324-3e72-4fd1-a8e3-07f488f07f2f"
      },
      "source": [
        "print(f'Curtosis: {kurtosis(cola_larga)}')\r\n",
        "print(f'Asimetría: {skew(cola_larga)}')"
      ],
      "execution_count": 45,
      "outputs": [
        {
          "output_type": "stream",
          "text": [
            "Curtosis: 2.533122679212248\n",
            "Asimetría: -0.028457083958306314\n"
          ],
          "name": "stdout"
        }
      ]
    },
    {
      "cell_type": "code",
      "metadata": {
        "id": "tfuZkTNTxtXB"
      },
      "source": [
        "asimetria_positiva = np.random.exponential(scale=1.0, size=10000)"
      ],
      "execution_count": 46,
      "outputs": []
    },
    {
      "cell_type": "code",
      "metadata": {
        "colab": {
          "base_uri": "https://localhost:8080/",
          "height": 322
        },
        "id": "dphnoluExvUW",
        "outputId": "cef6f426-864e-4461-e67a-ad4a8be78709"
      },
      "source": [
        "sns.distplot(asimetria_positiva, kde=False, norm_hist=False);"
      ],
      "execution_count": 47,
      "outputs": [
        {
          "output_type": "stream",
          "text": [
            "/usr/local/lib/python3.6/dist-packages/seaborn/distributions.py:2557: FutureWarning: `distplot` is a deprecated function and will be removed in a future version. Please adapt your code to use either `displot` (a figure-level function with similar flexibility) or `histplot` (an axes-level function for histograms).\n",
            "  warnings.warn(msg, FutureWarning)\n"
          ],
          "name": "stderr"
        },
        {
          "output_type": "display_data",
          "data": {
            "image/png": "[encoded data removed]",
            "text/plain": [
              "<Figure size 432x288 with 1 Axes>"
            ]
          },
          "metadata": {
            "tags": []
          }
        }
      ]
    },
    {
      "cell_type": "code",
      "metadata": {
        "colab": {
          "base_uri": "https://localhost:8080/"
        },
        "id": "o7aImxxXxwPl",
        "outputId": "73f960b1-a6ad-40da-c34d-feb6934de60a"
      },
      "source": [
        "print(f'Curtosis: {kurtosis(asimetria_positiva)}')\r\n",
        "print(f'Asimetría: {skew(asimetria_positiva)}')"
      ],
      "execution_count": 48,
      "outputs": [
        {
          "output_type": "stream",
          "text": [
            "Curtosis: 5.702037367338136\n",
            "Asimetría: 1.996202511823735\n"
          ],
          "name": "stdout"
        }
      ]
    },
    {
      "cell_type": "code",
      "metadata": {
        "id": "Z5VjjBULx1In"
      },
      "source": [
        "asimetria_negativa = np.random.chisquare(4, size=10000) * -1"
      ],
      "execution_count": 49,
      "outputs": []
    },
    {
      "cell_type": "code",
      "metadata": {
        "colab": {
          "base_uri": "https://localhost:8080/",
          "height": 322
        },
        "id": "syOymYsFx385",
        "outputId": "6ef74d46-8f66-427d-c088-9e4c84b6087e"
      },
      "source": [
        "sns.distplot(asimetria_negativa, kde=False, norm_hist=False);"
      ],
      "execution_count": 50,
      "outputs": [
        {
          "output_type": "stream",
          "text": [
            "/usr/local/lib/python3.6/dist-packages/seaborn/distributions.py:2557: FutureWarning: `distplot` is a deprecated function and will be removed in a future version. Please adapt your code to use either `displot` (a figure-level function with similar flexibility) or `histplot` (an axes-level function for histograms).\n",
            "  warnings.warn(msg, FutureWarning)\n"
          ],
          "name": "stderr"
        },
        {
          "output_type": "display_data",
          "data": {
            "image/png": "[encoded data removed]",
            "text/plain": [
              "<Figure size 432x288 with 1 Axes>"
            ]
          },
          "metadata": {
            "tags": []
          }
        }
      ]
    },
    {
      "cell_type": "code",
      "metadata": {
        "colab": {
          "base_uri": "https://localhost:8080/"
        },
        "id": "O1d_FpJxx7R3",
        "outputId": "9c80ae2f-299d-4de4-cafb-fe562c848ffe"
      },
      "source": [
        "print(f'Curtosis: {kurtosis(asimetria_negativa)}')\r\n",
        "print(f'Asimetría: {skew(asimetria_negativa)}')"
      ],
      "execution_count": 51,
      "outputs": [
        {
          "output_type": "stream",
          "text": [
            "Curtosis: 2.8417733267659173\n",
            "Asimetría: -1.4006786396522903\n"
          ],
          "name": "stdout"
        }
      ]
    },
    {
      "cell_type": "code",
      "metadata": {
        "colab": {
          "base_uri": "https://localhost:8080/",
          "height": 322
        },
        "id": "bkS6QJVBx8Gt",
        "outputId": "731d49ed-0929-4008-e226-98a3a3da43e4"
      },
      "source": [
        "cauchy = np.random.standard_cauchy(size=10000)\r\n",
        "sns.distplot(cauchy, kde=False, norm_hist=False);"
      ],
      "execution_count": 54,
      "outputs": [
        {
          "output_type": "stream",
          "text": [
            "/usr/local/lib/python3.6/dist-packages/seaborn/distributions.py:2557: FutureWarning: `distplot` is a deprecated function and will be removed in a future version. Please adapt your code to use either `displot` (a figure-level function with similar flexibility) or `histplot` (an axes-level function for histograms).\n",
            "  warnings.warn(msg, FutureWarning)\n"
          ],
          "name": "stderr"
        },
        {
          "output_type": "display_data",
          "data": {
            "image/png": "[encoded data removed]",
            "text/plain": [
              "<Figure size 432x288 with 1 Axes>"
            ]
          },
          "metadata": {
            "tags": []
          }
        }
      ]
    },
    {
      "cell_type": "code",
      "metadata": {
        "colab": {
          "base_uri": "https://localhost:8080/"
        },
        "id": "JemypWH0yIB3",
        "outputId": "08d05794-a95c-43b8-850a-b331d301bbca"
      },
      "source": [
        "print(f'Curtosis: {kurtosis(cauchy)}')\r\n",
        "print(f'Asimetría: {skew(cauchy)}')"
      ],
      "execution_count": 55,
      "outputs": [
        {
          "output_type": "stream",
          "text": [
            "Curtosis: 3572.501379393258\n",
            "Asimetría: -17.21607020485635\n"
          ],
          "name": "stdout"
        }
      ]
    },
    {
      "cell_type": "code",
      "metadata": {
        "id": "SQ3UGPzCyJ-n"
      },
      "source": [
        "uniform = np.random.uniform(low=-1, high=0, size=10000)"
      ],
      "execution_count": 57,
      "outputs": []
    },
    {
      "cell_type": "code",
      "metadata": {
        "colab": {
          "base_uri": "https://localhost:8080/",
          "height": 322
        },
        "id": "uIeoEKTxyMjx",
        "outputId": "775990ec-7b2e-4005-9b83-2ebfef81c09d"
      },
      "source": [
        "sns.distplot(uniform, bins=15, kde=False, norm_hist=False);"
      ],
      "execution_count": 58,
      "outputs": [
        {
          "output_type": "stream",
          "text": [
            "/usr/local/lib/python3.6/dist-packages/seaborn/distributions.py:2557: FutureWarning: `distplot` is a deprecated function and will be removed in a future version. Please adapt your code to use either `displot` (a figure-level function with similar flexibility) or `histplot` (an axes-level function for histograms).\n",
            "  warnings.warn(msg, FutureWarning)\n"
          ],
          "name": "stderr"
        },
        {
          "output_type": "display_data",
          "data": {
            "image/png": "[encoded data removed]",
            "text/plain": [
              "<Figure size 432x288 with 1 Axes>"
            ]
          },
          "metadata": {
            "tags": []
          }
        }
      ]
    },
    {
      "cell_type": "code",
      "metadata": {
        "colab": {
          "base_uri": "https://localhost:8080/"
        },
        "id": "v9mOi0p8ySFQ",
        "outputId": "1b41e155-1cc1-4ae8-c3db-cdf2c84b0012"
      },
      "source": [
        "print(f'Curtosis: {kurtosis(uniform)}')\r\n",
        "print(f'Asimetría: {skew(uniform)}')"
      ],
      "execution_count": 59,
      "outputs": [
        {
          "output_type": "stream",
          "text": [
            "Curtosis: -1.1966743029404605\n",
            "Asimetría: -0.010563687867016319\n"
          ],
          "name": "stdout"
        }
      ]
    },
    {
      "cell_type": "code",
      "metadata": {
        "id": "dBXA6bbQyW29"
      },
      "source": [
        "normal_left = np.random.normal(loc=-2.5, scale=1, size=10000)\r\n",
        "normal_right = np.random.normal(loc=2.5, scale=1, size=10000)\r\n",
        "bimodal = np.concatenate([normal_left, normal_right])"
      ],
      "execution_count": 60,
      "outputs": []
    },
    {
      "cell_type": "code",
      "metadata": {
        "colab": {
          "base_uri": "https://localhost:8080/",
          "height": 322
        },
        "id": "0h8dM0AGyZmX",
        "outputId": "f39a0de2-8990-4e74-fa7b-de0b5f5bbc15"
      },
      "source": [
        "sns.distplot(bimodal, kde=False, norm_hist=False);\r\n"
      ],
      "execution_count": 61,
      "outputs": [
        {
          "output_type": "stream",
          "text": [
            "/usr/local/lib/python3.6/dist-packages/seaborn/distributions.py:2557: FutureWarning: `distplot` is a deprecated function and will be removed in a future version. Please adapt your code to use either `displot` (a figure-level function with similar flexibility) or `histplot` (an axes-level function for histograms).\n",
            "  warnings.warn(msg, FutureWarning)\n"
          ],
          "name": "stderr"
        },
        {
          "output_type": "display_data",
          "data": {
            "image/png": "[encoded data removed]",
            "text/plain": [
              "<Figure size 432x288 with 1 Axes>"
            ]
          },
          "metadata": {
            "tags": []
          }
        }
      ]
    },
    {
      "cell_type": "code",
      "metadata": {
        "colab": {
          "base_uri": "https://localhost:8080/"
        },
        "id": "Ii62GVZRybNp",
        "outputId": "b9d6bd7f-2767-4689-944e-a464596ab6cd"
      },
      "source": [
        "print(f'Curtosis: {kurtosis(bimodal)}')\r\n",
        "print(f'Asimetría: {skew(bimodal)}')"
      ],
      "execution_count": 62,
      "outputs": [
        {
          "output_type": "stream",
          "text": [
            "Curtosis: -1.4904648723228762\n",
            "Asimetría: 0.001119561536953569\n"
          ],
          "name": "stdout"
        }
      ]
    },
    {
      "cell_type": "markdown",
      "metadata": {
        "id": "1E4cFrUSsYmN"
      },
      "source": [
        "# GRAFICAS DE **DENSIDAD**"
      ]
    },
    {
      "cell_type": "code",
      "metadata": {
        "id": "AtEb3e9vsXwi"
      },
      "source": [
        "sns.set(style='whitegrid')\r\n"
      ],
      "execution_count": 15,
      "outputs": []
    },
    {
      "cell_type": "code",
      "metadata": {
        "id": "vTQ_bnK-sjQ_"
      },
      "source": [
        "import numpy as np\r\n"
      ],
      "execution_count": 17,
      "outputs": []
    },
    {
      "cell_type": "code",
      "metadata": {
        "colab": {
          "base_uri": "https://localhost:8080/",
          "height": 322
        },
        "id": "5VrKTG7YsdYG",
        "outputId": "0d362bf4-05a1-4989-e42a-c78e3fe1a17f"
      },
      "source": [
        "laplace = np.random.laplace(loc=0.0, scale=1, size=10000)\r\n",
        "sns.distplot(laplace, hist=False);"
      ],
      "execution_count": 18,
      "outputs": [
        {
          "output_type": "stream",
          "text": [
            "/usr/local/lib/python3.6/dist-packages/seaborn/distributions.py:2557: FutureWarning: `distplot` is a deprecated function and will be removed in a future version. Please adapt your code to use either `displot` (a figure-level function with similar flexibility) or `kdeplot` (an axes-level function for kernel density plots).\n",
            "  warnings.warn(msg, FutureWarning)\n"
          ],
          "name": "stderr"
        },
        {
          "output_type": "display_data",
          "data": {
            "image/png": "[encoded data removed]",
            "text/plain": [
              "<Figure size 432x288 with 1 Axes>"
            ]
          },
          "metadata": {
            "tags": []
          }
        }
      ]
    },
    {
      "cell_type": "code",
      "metadata": {
        "colab": {
          "base_uri": "https://localhost:8080/",
          "height": 339
        },
        "id": "1bJt3nbGtO2B",
        "outputId": "c7fdc8ea-68e8-46f5-ec38-9a29ac5aec80"
      },
      "source": [
        "chisquare = np.random.chisquare(4, size=10000)\r\n",
        "sns.distplot(chisquare, hist=False)"
      ],
      "execution_count": 19,
      "outputs": [
        {
          "output_type": "stream",
          "text": [
            "/usr/local/lib/python3.6/dist-packages/seaborn/distributions.py:2557: FutureWarning: `distplot` is a deprecated function and will be removed in a future version. Please adapt your code to use either `displot` (a figure-level function with similar flexibility) or `kdeplot` (an axes-level function for kernel density plots).\n",
            "  warnings.warn(msg, FutureWarning)\n"
          ],
          "name": "stderr"
        },
        {
          "output_type": "execute_result",
          "data": {
            "text/plain": [
              "<matplotlib.axes._subplots.AxesSubplot at 0x7f180df311d0>"
            ]
          },
          "metadata": {
            "tags": []
          },
          "execution_count": 19
        },
        {
          "output_type": "display_data",
          "data": {
            "image/png": "[encoded data removed]",
            "text/plain": [
              "<Figure size 432x288 with 1 Axes>"
            ]
          },
          "metadata": {
            "tags": []
          }
        }
      ]
    },
    {
      "cell_type": "code",
      "metadata": {
        "colab": {
          "base_uri": "https://localhost:8080/",
          "height": 407
        },
        "id": "Fy-4bHFXtXRv",
        "outputId": "67d094b8-3155-4939-f12b-bcacff4fe5fa"
      },
      "source": [
        "sns.set(style='white')\r\n",
        "\r\n",
        "normal_1 = np.random.normal(loc=-2, scale=3, size=10000)\r\n",
        "normal_2 = np.random.normal(loc=4.5, scale=1, size=10000)\r\n",
        "exponential = np.random.exponential(scale=1.0, size=10000) - 1\r\n",
        "\r\n",
        "sns.distplot(normal_1, hist = False, kde_kws = {'shade': True})\r\n",
        "sns.distplot(normal_2, hist = False, kde_kws = {'shade': True})\r\n",
        "sns.distplot(exponential, hist = False, kde_kws = {'shade': True})"
      ],
      "execution_count": 20,
      "outputs": [
        {
          "output_type": "stream",
          "text": [
            "/usr/local/lib/python3.6/dist-packages/seaborn/distributions.py:2557: FutureWarning: `distplot` is a deprecated function and will be removed in a future version. Please adapt your code to use either `displot` (a figure-level function with similar flexibility) or `kdeplot` (an axes-level function for kernel density plots).\n",
            "  warnings.warn(msg, FutureWarning)\n",
            "/usr/local/lib/python3.6/dist-packages/seaborn/distributions.py:2557: FutureWarning: `distplot` is a deprecated function and will be removed in a future version. Please adapt your code to use either `displot` (a figure-level function with similar flexibility) or `kdeplot` (an axes-level function for kernel density plots).\n",
            "  warnings.warn(msg, FutureWarning)\n",
            "/usr/local/lib/python3.6/dist-packages/seaborn/distributions.py:2557: FutureWarning: `distplot` is a deprecated function and will be removed in a future version. Please adapt your code to use either `displot` (a figure-level function with similar flexibility) or `kdeplot` (an axes-level function for kernel density plots).\n",
            "  warnings.warn(msg, FutureWarning)\n"
          ],
          "name": "stderr"
        },
        {
          "output_type": "execute_result",
          "data": {
            "text/plain": [
              "<matplotlib.axes._subplots.AxesSubplot at 0x7f180dee3a58>"
            ]
          },
          "metadata": {
            "tags": []
          },
          "execution_count": 20
        },
        {
          "output_type": "display_data",
          "data": {
            "image/png": "[encoded data removed]",
            "text/plain": [
              "<Figure size 432x288 with 1 Axes>"
            ]
          },
          "metadata": {
            "tags": []
          }
        }
      ]
    },
    {
      "cell_type": "markdown",
      "metadata": {
        "id": "qGYoAtlguOfy"
      },
      "source": [
        "# **RETO 1**"
      ]
    },
    {
      "cell_type": "code",
      "metadata": {
        "id": "YLMuzw2fEtAL"
      },
      "source": [
        "df_1 = pd.read_csv('/content/drive/MyDrive/Colab Notebooks/Datasets/near_earth_objects-jan_feb_1995-clean.csv')"
      ],
      "execution_count": 154,
      "outputs": []
    },
    {
      "cell_type": "code",
      "metadata": {
        "colab": {
          "base_uri": "https://localhost:8080/",
          "height": 302
        },
        "id": "ZHMi8svhuVjs",
        "outputId": "d324802e-b84c-468c-fbcf-b0ce85001dd4"
      },
      "source": [
        "sns.set_style(\"whitegrid\")\r\n",
        "sns.boxplot(x=df_1['estimated_diameter.meters.estimated_diameter_max'])"
      ],
      "execution_count": 155,
      "outputs": [
        {
          "output_type": "execute_result",
          "data": {
            "text/plain": [
              "<matplotlib.axes._subplots.AxesSubplot at 0x7f1803c7a588>"
            ]
          },
          "metadata": {
            "tags": []
          },
          "execution_count": 155
        },
        {
          "output_type": "display_data",
          "data": {
            "image/png": "[encoded data removed]",
            "text/plain": [
              "<Figure size 432x288 with 1 Axes>"
            ]
          },
          "metadata": {
            "tags": []
          }
        }
      ]
    },
    {
      "cell_type": "code",
      "metadata": {
        "colab": {
          "base_uri": "https://localhost:8080/",
          "height": 302
        },
        "id": "3VbaZjozukVu",
        "outputId": "09c57c44-5eeb-4b55-d34d-a28d1e662c9c"
      },
      "source": [
        "sns.set(style=\"whitegrid\")\r\n",
        "sns.boxplot(x=df_1['estimated_diameter.meters.estimated_diameter_max'])\r\n",
        "plt.axvline(df_1['estimated_diameter.meters.estimated_diameter_max'].mean(), c='y') # (valor de la línea, color)"
      ],
      "execution_count": 26,
      "outputs": [
        {
          "output_type": "execute_result",
          "data": {
            "text/plain": [
              "<matplotlib.lines.Line2D at 0x7f180de44470>"
            ]
          },
          "metadata": {
            "tags": []
          },
          "execution_count": 26
        },
        {
          "output_type": "display_data",
          "data": {
            "image/png": "[encoded data removed]",
            "text/plain": [
              "<Figure size 432x288 with 1 Axes>"
            ]
          },
          "metadata": {
            "tags": []
          }
        }
      ]
    },
    {
      "cell_type": "code",
      "metadata": {
        "id": "oQCbvJwFvAc4"
      },
      "source": [
        "iqr = df_1['estimated_diameter.meters.estimated_diameter_max'].quantile(0.75) - df_1['estimated_diameter.meters.estimated_diameter_max'].quantile(0.25)\r\n",
        "filtro_inferior = df_1['estimated_diameter.meters.estimated_diameter_max'] > df_1['estimated_diameter.meters.estimated_diameter_max'].quantile(0.25) - (iqr * 1.5)\r\n",
        "filtro_superior = df_1['estimated_diameter.meters.estimated_diameter_max'] < df_1['estimated_diameter.meters.estimated_diameter_max'].quantile(0.75) + (iqr * 1.5)\r\n",
        "\r\n",
        "df_filtrado = df_1[filtro_inferior & filtro_superior]"
      ],
      "execution_count": 28,
      "outputs": []
    },
    {
      "cell_type": "code",
      "metadata": {
        "colab": {
          "base_uri": "https://localhost:8080/",
          "height": 356
        },
        "id": "ZiHUveT1vfRU",
        "outputId": "74712245-12f4-47b2-fedf-12b4f254a8f3"
      },
      "source": [
        "sns.boxplot(df_filtrado['estimated_diameter.meters.estimated_diameter_max'])\r\n",
        "\r\n"
      ],
      "execution_count": 156,
      "outputs": [
        {
          "output_type": "stream",
          "text": [
            "/usr/local/lib/python3.6/dist-packages/seaborn/_decorators.py:43: FutureWarning: Pass the following variable as a keyword arg: x. From version 0.12, the only valid positional argument will be `data`, and passing other arguments without an explicit keyword will result in an error or misinterpretation.\n",
            "  FutureWarning\n"
          ],
          "name": "stderr"
        },
        {
          "output_type": "execute_result",
          "data": {
            "text/plain": [
              "<matplotlib.axes._subplots.AxesSubplot at 0x7f1803bec0b8>"
            ]
          },
          "metadata": {
            "tags": []
          },
          "execution_count": 156
        },
        {
          "output_type": "display_data",
          "data": {
            "image/png": "[encoded data removed]",
            "text/plain": [
              "<Figure size 432x288 with 1 Axes>"
            ]
          },
          "metadata": {
            "tags": []
          }
        }
      ]
    },
    {
      "cell_type": "code",
      "metadata": {
        "id": "VswGwwycE8nA"
      },
      "source": [
        "df_2 = pd.read_json('/content/drive/MyDrive/Colab Notebooks/Datasets/new_york_times_bestsellers-clean.json')"
      ],
      "execution_count": null,
      "outputs": []
    },
    {
      "cell_type": "code",
      "metadata": {
        "id": "IGEznvO9FFcK"
      },
      "source": [
        "df_3 = pd.read_csv('/content/drive/MyDrive/Colab Notebooks/Datasets/melbourne_housing-clean.csv')"
      ],
      "execution_count": null,
      "outputs": []
    },
    {
      "cell_type": "markdown",
      "metadata": {
        "id": "2xm0m7Kyv840"
      },
      "source": [
        "# **RETO 2**"
      ]
    },
    {
      "cell_type": "code",
      "metadata": {
        "colab": {
          "base_uri": "https://localhost:8080/"
        },
        "id": "1Utd_I6MF7WZ",
        "outputId": "69946bd6-2ebf-4f86-ce3f-f6e010a639c7"
      },
      "source": [
        "diameter_max = df_1['estimated_diameter.meters.estimated_diameter_max']\r\n",
        "diameter_max.max() - diameter_max.min()"
      ],
      "execution_count": null,
      "outputs": [
        {
          "output_type": "execute_result",
          "data": {
            "text/plain": [
              "6513.905031051"
            ]
          },
          "metadata": {
            "tags": []
          },
          "execution_count": 13
        }
      ]
    },
    {
      "cell_type": "code",
      "metadata": {
        "colab": {
          "base_uri": "https://localhost:8080/"
        },
        "id": "9l0flFIMNER3",
        "outputId": "cc533db7-540e-4f1a-be77-e8ce969a02df"
      },
      "source": [
        "pd.cut(diameter_max, 20)"
      ],
      "execution_count": null,
      "outputs": [
        {
          "output_type": "execute_result",
          "data": {
            "text/plain": [
              "0      (980.065, 1305.76]\n",
              "1       (-3.535, 328.674]\n",
              "2       (-3.535, 328.674]\n",
              "3       (-3.535, 328.674]\n",
              "4       (-3.535, 328.674]\n",
              "              ...        \n",
              "328    (980.065, 1305.76]\n",
              "329    (980.065, 1305.76]\n",
              "330    (328.674, 654.369]\n",
              "331    (654.369, 980.065]\n",
              "332     (-3.535, 328.674]\n",
              "Name: estimated_diameter.meters.estimated_diameter_max, Length: 333, dtype: category\n",
              "Categories (20, interval[float64]): [(-3.535, 328.674] < (328.674, 654.369] < (654.369, 980.065] <\n",
              "                                     (980.065, 1305.76] ... (5214.103, 5539.798] <\n",
              "                                     (5539.798, 5865.493] < (5865.493, 6191.189] < (6191.189, 6516.884]]"
            ]
          },
          "metadata": {
            "tags": []
          },
          "execution_count": 14
        }
      ]
    },
    {
      "cell_type": "code",
      "metadata": {
        "colab": {
          "base_uri": "https://localhost:8080/"
        },
        "id": "tB0bLAIONHVD",
        "outputId": "a4670412-a237-476c-9c32-70158bc094d0"
      },
      "source": [
        "segmentos = pd.cut(diameter_max, 20)\r\n",
        "\r\n",
        "df_1['estimated_diameter.meters.estimated_diameter_max'].groupby(segmentos).count()"
      ],
      "execution_count": null,
      "outputs": [
        {
          "output_type": "execute_result",
          "data": {
            "text/plain": [
              "estimated_diameter.meters.estimated_diameter_max\n",
              "(-3.535, 328.674]       207\n",
              "(328.674, 654.369]       67\n",
              "(654.369, 980.065]       24\n",
              "(980.065, 1305.76]       18\n",
              "(1305.76, 1631.455]       4\n",
              "(1631.455, 1957.15]       6\n",
              "(1957.15, 2282.846]       1\n",
              "(2282.846, 2608.541]      1\n",
              "(2608.541, 2934.236]      1\n",
              "(2934.236, 3259.931]      1\n",
              "(3259.931, 3585.627]      1\n",
              "(3585.627, 3911.322]      1\n",
              "(3911.322, 4237.017]      0\n",
              "(4237.017, 4562.712]      0\n",
              "(4562.712, 4888.408]      0\n",
              "(4888.408, 5214.103]      0\n",
              "(5214.103, 5539.798]      0\n",
              "(5539.798, 5865.493]      0\n",
              "(5865.493, 6191.189]      0\n",
              "(6191.189, 6516.884]      1\n",
              "Name: estimated_diameter.meters.estimated_diameter_max, dtype: int64"
            ]
          },
          "metadata": {
            "tags": []
          },
          "execution_count": 15
        }
      ]
    },
    {
      "cell_type": "markdown",
      "metadata": {
        "id": "Wla8dQr5wDix"
      },
      "source": [
        "# **RETO 2.1**"
      ]
    },
    {
      "cell_type": "code",
      "metadata": {
        "id": "E9HEAtKJNU4g"
      },
      "source": [
        "sns.set(style='white')"
      ],
      "execution_count": 30,
      "outputs": []
    },
    {
      "cell_type": "code",
      "metadata": {
        "colab": {
          "base_uri": "https://localhost:8080/",
          "height": 356
        },
        "id": "3wVC0y_swUIP",
        "outputId": "be7f0a05-252c-4857-f758-840c1443045d"
      },
      "source": [
        "sns.distplot(df_1['estimated_diameter.meters.estimated_diameter_max'], kde=False, norm_hist=False, bins=20)"
      ],
      "execution_count": 31,
      "outputs": [
        {
          "output_type": "stream",
          "text": [
            "/usr/local/lib/python3.6/dist-packages/seaborn/distributions.py:2557: FutureWarning: `distplot` is a deprecated function and will be removed in a future version. Please adapt your code to use either `displot` (a figure-level function with similar flexibility) or `histplot` (an axes-level function for histograms).\n",
            "  warnings.warn(msg, FutureWarning)\n"
          ],
          "name": "stderr"
        },
        {
          "output_type": "execute_result",
          "data": {
            "text/plain": [
              "<matplotlib.axes._subplots.AxesSubplot at 0x7f180dbfdb00>"
            ]
          },
          "metadata": {
            "tags": []
          },
          "execution_count": 31
        },
        {
          "output_type": "display_data",
          "data": {
            "image/png": "[encoded data removed]",
            "text/plain": [
              "<Figure size 432x288 with 1 Axes>"
            ]
          },
          "metadata": {
            "tags": []
          }
        }
      ]
    },
    {
      "cell_type": "code",
      "metadata": {
        "colab": {
          "base_uri": "https://localhost:8080/",
          "height": 356
        },
        "id": "emBX1odnwjYJ",
        "outputId": "006202dc-bb52-4636-e180-818828cdcd61"
      },
      "source": [
        "sns.set(style='ticks')\r\n",
        "sns.distplot(df_1['estimated_diameter.meters.estimated_diameter_max'], kde=False, norm_hist=False, bins=100)"
      ],
      "execution_count": 33,
      "outputs": [
        {
          "output_type": "stream",
          "text": [
            "/usr/local/lib/python3.6/dist-packages/seaborn/distributions.py:2557: FutureWarning: `distplot` is a deprecated function and will be removed in a future version. Please adapt your code to use either `displot` (a figure-level function with similar flexibility) or `histplot` (an axes-level function for histograms).\n",
            "  warnings.warn(msg, FutureWarning)\n"
          ],
          "name": "stderr"
        },
        {
          "output_type": "execute_result",
          "data": {
            "text/plain": [
              "<matplotlib.axes._subplots.AxesSubplot at 0x7f180dddd1d0>"
            ]
          },
          "metadata": {
            "tags": []
          },
          "execution_count": 33
        },
        {
          "output_type": "display_data",
          "data": {
            "image/png": "[encoded data removed]",
            "text/plain": [
              "<Figure size 432x288 with 1 Axes>"
            ]
          },
          "metadata": {
            "tags": []
          }
        }
      ]
    },
    {
      "cell_type": "markdown",
      "metadata": {
        "id": "Dve1w84kwpyB"
      },
      "source": [
        "# **RETO 3**"
      ]
    },
    {
      "cell_type": "code",
      "metadata": {
        "id": "7p09IijJwto0"
      },
      "source": [
        "diabetes = pd.read_csv('/content/drive/MyDrive/Colab Notebooks/Datasets/diabetes-clean.csv', index_col=0)"
      ],
      "execution_count": 63,
      "outputs": []
    },
    {
      "cell_type": "code",
      "metadata": {
        "colab": {
          "base_uri": "https://localhost:8080/",
          "height": 204
        },
        "id": "SXQMJLep0jsH",
        "outputId": "fb20e58e-0ee4-4236-8d08-c25952187cb1"
      },
      "source": [
        "diabetes.head()"
      ],
      "execution_count": 64,
      "outputs": [
        {
          "output_type": "execute_result",
          "data": {
            "text/html": [
              "<div>\n",
              "<style scoped>\n",
              "    .dataframe tbody tr th:only-of-type {\n",
              "        vertical-align: middle;\n",
              "    }\n",
              "\n",
              "    .dataframe tbody tr th {\n",
              "        vertical-align: top;\n",
              "    }\n",
              "\n",
              "    .dataframe thead th {\n",
              "        text-align: right;\n",
              "    }\n",
              "</style>\n",
              "<table border=\"1\" class=\"dataframe\">\n",
              "  <thead>\n",
              "    <tr style=\"text-align: right;\">\n",
              "      <th></th>\n",
              "      <th>pregnancies</th>\n",
              "      <th>glucose</th>\n",
              "      <th>blood_pressure</th>\n",
              "      <th>skin_thickness</th>\n",
              "      <th>insulin</th>\n",
              "      <th>bmi</th>\n",
              "      <th>diabetes_pedigree_function</th>\n",
              "      <th>age</th>\n",
              "      <th>outcome</th>\n",
              "    </tr>\n",
              "  </thead>\n",
              "  <tbody>\n",
              "    <tr>\n",
              "      <th>0</th>\n",
              "      <td>6</td>\n",
              "      <td>148</td>\n",
              "      <td>72</td>\n",
              "      <td>35</td>\n",
              "      <td>0</td>\n",
              "      <td>33.6</td>\n",
              "      <td>0.627</td>\n",
              "      <td>50</td>\n",
              "      <td>1</td>\n",
              "    </tr>\n",
              "    <tr>\n",
              "      <th>1</th>\n",
              "      <td>1</td>\n",
              "      <td>85</td>\n",
              "      <td>66</td>\n",
              "      <td>29</td>\n",
              "      <td>0</td>\n",
              "      <td>26.6</td>\n",
              "      <td>0.351</td>\n",
              "      <td>31</td>\n",
              "      <td>0</td>\n",
              "    </tr>\n",
              "    <tr>\n",
              "      <th>2</th>\n",
              "      <td>8</td>\n",
              "      <td>183</td>\n",
              "      <td>64</td>\n",
              "      <td>0</td>\n",
              "      <td>0</td>\n",
              "      <td>23.3</td>\n",
              "      <td>0.672</td>\n",
              "      <td>32</td>\n",
              "      <td>1</td>\n",
              "    </tr>\n",
              "    <tr>\n",
              "      <th>3</th>\n",
              "      <td>1</td>\n",
              "      <td>89</td>\n",
              "      <td>66</td>\n",
              "      <td>23</td>\n",
              "      <td>94</td>\n",
              "      <td>28.1</td>\n",
              "      <td>0.167</td>\n",
              "      <td>21</td>\n",
              "      <td>0</td>\n",
              "    </tr>\n",
              "    <tr>\n",
              "      <th>4</th>\n",
              "      <td>0</td>\n",
              "      <td>137</td>\n",
              "      <td>40</td>\n",
              "      <td>35</td>\n",
              "      <td>168</td>\n",
              "      <td>43.1</td>\n",
              "      <td>2.288</td>\n",
              "      <td>33</td>\n",
              "      <td>1</td>\n",
              "    </tr>\n",
              "  </tbody>\n",
              "</table>\n",
              "</div>"
            ],
            "text/plain": [
              "   pregnancies  glucose  ...  age  outcome\n",
              "0            6      148  ...   50        1\n",
              "1            1       85  ...   31        0\n",
              "2            8      183  ...   32        1\n",
              "3            1       89  ...   21        0\n",
              "4            0      137  ...   33        1\n",
              "\n",
              "[5 rows x 9 columns]"
            ]
          },
          "metadata": {
            "tags": []
          },
          "execution_count": 64
        }
      ]
    },
    {
      "cell_type": "code",
      "metadata": {
        "id": "C0vQoyKs029b"
      },
      "source": [
        "sns.set(style='dark')"
      ],
      "execution_count": 91,
      "outputs": []
    },
    {
      "cell_type": "code",
      "metadata": {
        "colab": {
          "base_uri": "https://localhost:8080/",
          "height": 340
        },
        "id": "hKHU1npn07f9",
        "outputId": "330411ba-d80d-4816-8b25-455317613270"
      },
      "source": [
        "sns.distplot(diabetes['pregnancies'], kde=False, norm_hist=False, bins=50)"
      ],
      "execution_count": 92,
      "outputs": [
        {
          "output_type": "stream",
          "text": [
            "/usr/local/lib/python3.6/dist-packages/seaborn/distributions.py:2557: FutureWarning: `distplot` is a deprecated function and will be removed in a future version. Please adapt your code to use either `displot` (a figure-level function with similar flexibility) or `histplot` (an axes-level function for histograms).\n",
            "  warnings.warn(msg, FutureWarning)\n"
          ],
          "name": "stderr"
        },
        {
          "output_type": "display_data",
          "data": {
            "image/png": "[encoded data removed]",
            "text/plain": [
              "<Figure size 432x288 with 1 Axes>"
            ]
          },
          "metadata": {
            "tags": []
          }
        }
      ]
    },
    {
      "cell_type": "code",
      "metadata": {
        "colab": {
          "base_uri": "https://localhost:8080/",
          "height": 302
        },
        "id": "Cjyn4Av5Cdbj",
        "outputId": "cc5a4ac1-ea64-432f-b6c2-29f41b4e7f66"
      },
      "source": [
        "sns.boxplot(x=diabetes['pregnancies'])\r\n",
        "plt.axvline(diabetes['pregnancies'].mean(), c='y')"
      ],
      "execution_count": 110,
      "outputs": [
        {
          "output_type": "execute_result",
          "data": {
            "text/plain": [
              "<matplotlib.lines.Line2D at 0x7f18049b38d0>"
            ]
          },
          "metadata": {
            "tags": []
          },
          "execution_count": 110
        },
        {
          "output_type": "display_data",
          "data": {
            "image/png": "[encoded data removed]",
            "text/plain": [
              "<Figure size 432x288 with 1 Axes>"
            ]
          },
          "metadata": {
            "tags": []
          }
        }
      ]
    },
    {
      "cell_type": "code",
      "metadata": {
        "id": "7wzxaIeYENkC"
      },
      "source": [
        "iqr = diabetes['pregnancies'].quantile(0.75) - diabetes['pregnancies'].quantile(0.25)\r\n",
        "filtro_inferior = diabetes['pregnancies'] > diabetes['pregnancies'].quantile(0.25) - (iqr * 1.5)\r\n",
        "filtro_superior = diabetes['pregnancies'] < diabetes['pregnancies'].quantile(0.75) + (iqr * 1.5)\r\n",
        "\r\n",
        "df_filtrado_preg = diabetes[filtro_inferior & filtro_superior]"
      ],
      "execution_count": 111,
      "outputs": []
    },
    {
      "cell_type": "code",
      "metadata": {
        "colab": {
          "base_uri": "https://localhost:8080/",
          "height": 356
        },
        "id": "UCJIHyQ3EoM_",
        "outputId": "09cda8c8-f7bb-4abc-fc9d-812cf5bee3a7"
      },
      "source": [
        "sns.boxplot(df_filtrado_preg['pregnancies'])"
      ],
      "execution_count": 112,
      "outputs": [
        {
          "output_type": "stream",
          "text": [
            "/usr/local/lib/python3.6/dist-packages/seaborn/_decorators.py:43: FutureWarning: Pass the following variable as a keyword arg: x. From version 0.12, the only valid positional argument will be `data`, and passing other arguments without an explicit keyword will result in an error or misinterpretation.\n",
            "  FutureWarning\n"
          ],
          "name": "stderr"
        },
        {
          "output_type": "execute_result",
          "data": {
            "text/plain": [
              "<matplotlib.axes._subplots.AxesSubplot at 0x7f18048e0828>"
            ]
          },
          "metadata": {
            "tags": []
          },
          "execution_count": 112
        },
        {
          "output_type": "display_data",
          "data": {
            "image/png": "[encoded data removed]",
            "text/plain": [
              "<Figure size 432x288 with 1 Axes>"
            ]
          },
          "metadata": {
            "tags": []
          }
        }
      ]
    },
    {
      "cell_type": "code",
      "metadata": {
        "colab": {
          "base_uri": "https://localhost:8080/"
        },
        "id": "2WSWQUBrGof3",
        "outputId": "5d92d5ee-c909-481a-fcb2-cc6e87ad91e9"
      },
      "source": [
        "diabetes['pregnancies'].groupby(pd.cut(diabetes['pregnancies'], 5)).count()"
      ],
      "execution_count": 127,
      "outputs": [
        {
          "output_type": "execute_result",
          "data": {
            "text/plain": [
              "pregnancies\n",
              "(-0.017, 3.4]    424\n",
              "(3.4, 6.8]       175\n",
              "(6.8, 10.2]      135\n",
              "(10.2, 13.6]      30\n",
              "(13.6, 17.0]       4\n",
              "Name: pregnancies, dtype: int64"
            ]
          },
          "metadata": {
            "tags": []
          },
          "execution_count": 127
        }
      ]
    },
    {
      "cell_type": "code",
      "metadata": {
        "colab": {
          "base_uri": "https://localhost:8080/"
        },
        "id": "tsc58B3A7UEZ",
        "outputId": "b289813e-e258-4d0e-c91b-0b37a2899f85"
      },
      "source": [
        "print(f'Curtosis: {kurtosis(diabetes.pregnancies)}')\r\n",
        "print(f'Asimetría: {skew(diabetes.pregnancies)}')"
      ],
      "execution_count": 95,
      "outputs": [
        {
          "output_type": "stream",
          "text": [
            "Curtosis: 0.15038273760948462\n",
            "Asimetría: 0.8999119408414357\n"
          ],
          "name": "stdout"
        }
      ]
    },
    {
      "cell_type": "code",
      "metadata": {
        "id": "xl1dfXE94NPZ"
      },
      "source": [
        "import numpy as np\r\n"
      ],
      "execution_count": 77,
      "outputs": []
    },
    {
      "cell_type": "code",
      "metadata": {
        "colab": {
          "base_uri": "https://localhost:8080/",
          "height": 358
        },
        "id": "2BCxysO92SHc",
        "outputId": "1c3bd62c-6c06-4d47-ab38-138002a79ba1"
      },
      "source": [
        "sns.distplot(diabetes['glucose'], kde=False, norm_hist=False, bins=50)"
      ],
      "execution_count": 68,
      "outputs": [
        {
          "output_type": "stream",
          "text": [
            "/usr/local/lib/python3.6/dist-packages/seaborn/distributions.py:2557: FutureWarning: `distplot` is a deprecated function and will be removed in a future version. Please adapt your code to use either `displot` (a figure-level function with similar flexibility) or `histplot` (an axes-level function for histograms).\n",
            "  warnings.warn(msg, FutureWarning)\n"
          ],
          "name": "stderr"
        },
        {
          "output_type": "execute_result",
          "data": {
            "text/plain": [
              "<matplotlib.axes._subplots.AxesSubplot at 0x7f180cdb4278>"
            ]
          },
          "metadata": {
            "tags": []
          },
          "execution_count": 68
        },
        {
          "output_type": "display_data",
          "data": {
            "image/png": "[encoded data removed]",
            "text/plain": [
              "<Figure size 432x288 with 1 Axes>"
            ]
          },
          "metadata": {
            "tags": []
          }
        }
      ]
    },
    {
      "cell_type": "code",
      "metadata": {
        "colab": {
          "base_uri": "https://localhost:8080/",
          "height": 302
        },
        "id": "SJJVzBNGE1Tw",
        "outputId": "acbe85cd-f8b9-40ce-d6ba-2c940ec3c965"
      },
      "source": [
        "sns.boxplot(x=diabetes['glucose'])\r\n",
        "plt.axvline(diabetes['glucose'].mean(), c='y')"
      ],
      "execution_count": 113,
      "outputs": [
        {
          "output_type": "execute_result",
          "data": {
            "text/plain": [
              "<matplotlib.lines.Line2D at 0x7f18048d56d8>"
            ]
          },
          "metadata": {
            "tags": []
          },
          "execution_count": 113
        },
        {
          "output_type": "display_data",
          "data": {
            "image/png": "[encoded data removed]",
            "text/plain": [
              "<Figure size 432x288 with 1 Axes>"
            ]
          },
          "metadata": {
            "tags": []
          }
        }
      ]
    },
    {
      "cell_type": "code",
      "metadata": {
        "colab": {
          "base_uri": "https://localhost:8080/"
        },
        "id": "TXvEo68cHiyM",
        "outputId": "0e1cc88a-b822-4f35-f2e5-1e874f6a95dc"
      },
      "source": [
        "diabetes['glucose'].groupby(pd.cut(diabetes['glucose'], 5)).count()"
      ],
      "execution_count": 128,
      "outputs": [
        {
          "output_type": "execute_result",
          "data": {
            "text/plain": [
              "glucose\n",
              "(-0.199, 39.8]      5\n",
              "(39.8, 79.6]       36\n",
              "(79.6, 119.4]     367\n",
              "(119.4, 159.2]    258\n",
              "(159.2, 199.0]    102\n",
              "Name: glucose, dtype: int64"
            ]
          },
          "metadata": {
            "tags": []
          },
          "execution_count": 128
        }
      ]
    },
    {
      "cell_type": "code",
      "metadata": {
        "colab": {
          "base_uri": "https://localhost:8080/"
        },
        "id": "IUoiOjpO8gFI",
        "outputId": "77feae9d-6572-4062-f4d4-934ae115062e"
      },
      "source": [
        "print(f'Curtosis: {kurtosis(diabetes.glucose)}')\r\n",
        "print(f'Asimetría: {skew(diabetes.glucose)}')"
      ],
      "execution_count": 96,
      "outputs": [
        {
          "output_type": "stream",
          "text": [
            "Curtosis: 0.6288133337300685\n",
            "Asimetría: 0.17341395519987735\n"
          ],
          "name": "stdout"
        }
      ]
    },
    {
      "cell_type": "code",
      "metadata": {
        "colab": {
          "base_uri": "https://localhost:8080/",
          "height": 356
        },
        "id": "R9FAs1I62Y37",
        "outputId": "c46c658c-2c44-41f0-93f5-85476dfae141"
      },
      "source": [
        "sns.distplot(diabetes['blood_pressure'], kde=False, norm_hist=False, bins=50)"
      ],
      "execution_count": 69,
      "outputs": [
        {
          "output_type": "stream",
          "text": [
            "/usr/local/lib/python3.6/dist-packages/seaborn/distributions.py:2557: FutureWarning: `distplot` is a deprecated function and will be removed in a future version. Please adapt your code to use either `displot` (a figure-level function with similar flexibility) or `histplot` (an axes-level function for histograms).\n",
            "  warnings.warn(msg, FutureWarning)\n"
          ],
          "name": "stderr"
        },
        {
          "output_type": "execute_result",
          "data": {
            "text/plain": [
              "<matplotlib.axes._subplots.AxesSubplot at 0x7f180d499550>"
            ]
          },
          "metadata": {
            "tags": []
          },
          "execution_count": 69
        },
        {
          "output_type": "display_data",
          "data": {
            "image/png": "[encoded data removed]",
            "text/plain": [
              "<Figure size 432x288 with 1 Axes>"
            ]
          },
          "metadata": {
            "tags": []
          }
        }
      ]
    },
    {
      "cell_type": "code",
      "metadata": {
        "colab": {
          "base_uri": "https://localhost:8080/",
          "height": 302
        },
        "id": "-apYL9mZE9xr",
        "outputId": "14943ab8-2f28-49cb-d8bb-ed655f319e78"
      },
      "source": [
        "sns.boxplot(x=diabetes['blood_pressure'])\r\n",
        "plt.axvline(diabetes['blood_pressure'].mean(), c='y')"
      ],
      "execution_count": 114,
      "outputs": [
        {
          "output_type": "execute_result",
          "data": {
            "text/plain": [
              "<matplotlib.lines.Line2D at 0x7f1804843c18>"
            ]
          },
          "metadata": {
            "tags": []
          },
          "execution_count": 114
        },
        {
          "output_type": "display_data",
          "data": {
            "image/png": "[encoded data removed]",
            "text/plain": [
              "<Figure size 432x288 with 1 Axes>"
            ]
          },
          "metadata": {
            "tags": []
          }
        }
      ]
    },
    {
      "cell_type": "code",
      "metadata": {
        "colab": {
          "base_uri": "https://localhost:8080/"
        },
        "id": "bPqcXiyxHpGO",
        "outputId": "ffe01b5b-0151-4649-fe28-690c73106a14"
      },
      "source": [
        "diabetes['blood_pressure'].groupby(pd.cut(diabetes['blood_pressure'], 5)).count()"
      ],
      "execution_count": 129,
      "outputs": [
        {
          "output_type": "execute_result",
          "data": {
            "text/plain": [
              "blood_pressure\n",
              "(-0.122, 24.4]     36\n",
              "(24.4, 48.8]       15\n",
              "(48.8, 73.2]      368\n",
              "(73.2, 97.6]      330\n",
              "(97.6, 122.0]      19\n",
              "Name: blood_pressure, dtype: int64"
            ]
          },
          "metadata": {
            "tags": []
          },
          "execution_count": 129
        }
      ]
    },
    {
      "cell_type": "code",
      "metadata": {
        "colab": {
          "base_uri": "https://localhost:8080/"
        },
        "id": "kAEnq4eL8nA1",
        "outputId": "4328731b-6d71-4fc0-84aa-4265442b2cc9"
      },
      "source": [
        "print(f'Curtosis: {kurtosis(diabetes.blood_pressure)}')\r\n",
        "print(f'Asimetría: {skew(diabetes.blood_pressure)}')"
      ],
      "execution_count": 97,
      "outputs": [
        {
          "output_type": "stream",
          "text": [
            "Curtosis: 5.138690662525438\n",
            "Asimetría: -1.8400052311728738\n"
          ],
          "name": "stdout"
        }
      ]
    },
    {
      "cell_type": "code",
      "metadata": {
        "colab": {
          "base_uri": "https://localhost:8080/",
          "height": 356
        },
        "id": "VWvQElrs2fG-",
        "outputId": "2931b6b9-8929-43b1-9bae-362d6b66471b"
      },
      "source": [
        "sns.distplot(diabetes['skin_thickness'], kde=False, norm_hist=False, bins=50)"
      ],
      "execution_count": 70,
      "outputs": [
        {
          "output_type": "stream",
          "text": [
            "/usr/local/lib/python3.6/dist-packages/seaborn/distributions.py:2557: FutureWarning: `distplot` is a deprecated function and will be removed in a future version. Please adapt your code to use either `displot` (a figure-level function with similar flexibility) or `histplot` (an axes-level function for histograms).\n",
            "  warnings.warn(msg, FutureWarning)\n"
          ],
          "name": "stderr"
        },
        {
          "output_type": "execute_result",
          "data": {
            "text/plain": [
              "<matplotlib.axes._subplots.AxesSubplot at 0x7f180d7bfb38>"
            ]
          },
          "metadata": {
            "tags": []
          },
          "execution_count": 70
        },
        {
          "output_type": "display_data",
          "data": {
            "image/png": "[encoded data removed]",
            "text/plain": [
              "<Figure size 432x288 with 1 Axes>"
            ]
          },
          "metadata": {
            "tags": []
          }
        }
      ]
    },
    {
      "cell_type": "code",
      "metadata": {
        "colab": {
          "base_uri": "https://localhost:8080/",
          "height": 302
        },
        "id": "uApTE5tzFKZr",
        "outputId": "c2657b6e-a8cf-4b42-df04-95819a7db789"
      },
      "source": [
        "sns.boxplot(x=diabetes['skin_thickness'])\r\n",
        "plt.axvline(diabetes['skin_thickness'].mean(), c='y')"
      ],
      "execution_count": 115,
      "outputs": [
        {
          "output_type": "execute_result",
          "data": {
            "text/plain": [
              "<matplotlib.lines.Line2D at 0x7f1804843128>"
            ]
          },
          "metadata": {
            "tags": []
          },
          "execution_count": 115
        },
        {
          "output_type": "display_data",
          "data": {
            "image/png": "[encoded data removed]",
            "text/plain": [
              "<Figure size 432x288 with 1 Axes>"
            ]
          },
          "metadata": {
            "tags": []
          }
        }
      ]
    },
    {
      "cell_type": "code",
      "metadata": {
        "colab": {
          "base_uri": "https://localhost:8080/"
        },
        "id": "gx4qTP-lH5OR",
        "outputId": "892a2a62-6873-4d45-93ea-dceb3e298d8f"
      },
      "source": [
        "diabetes['skin_thickness'].groupby(pd.cut(diabetes['skin_thickness'], 5)).count()"
      ],
      "execution_count": 130,
      "outputs": [
        {
          "output_type": "execute_result",
          "data": {
            "text/plain": [
              "skin_thickness\n",
              "(-0.099, 19.8]    338\n",
              "(19.8, 39.6]      340\n",
              "(39.6, 59.4]       87\n",
              "(59.4, 79.2]        2\n",
              "(79.2, 99.0]        1\n",
              "Name: skin_thickness, dtype: int64"
            ]
          },
          "metadata": {
            "tags": []
          },
          "execution_count": 130
        }
      ]
    },
    {
      "cell_type": "code",
      "metadata": {
        "colab": {
          "base_uri": "https://localhost:8080/"
        },
        "id": "vBgiyBy48sve",
        "outputId": "6b8db2b3-abf0-49ca-d576-8799f1d4c394"
      },
      "source": [
        "print(f'Curtosis: {kurtosis(diabetes.skin_thickness)}')\r\n",
        "print(f'Asimetría: {skew(diabetes.skin_thickness)}')"
      ],
      "execution_count": 98,
      "outputs": [
        {
          "output_type": "stream",
          "text": [
            "Curtosis: -0.5244944887652805\n",
            "Asimetría: 0.109158762323673\n"
          ],
          "name": "stdout"
        }
      ]
    },
    {
      "cell_type": "code",
      "metadata": {
        "colab": {
          "base_uri": "https://localhost:8080/",
          "height": 356
        },
        "id": "KeY4g5PH2o6I",
        "outputId": "060f6db1-1e9c-4ed1-97fe-34287ee5edec"
      },
      "source": [
        "sns.distplot(diabetes['insulin'], kde=False, norm_hist=False, bins=50)"
      ],
      "execution_count": 71,
      "outputs": [
        {
          "output_type": "stream",
          "text": [
            "/usr/local/lib/python3.6/dist-packages/seaborn/distributions.py:2557: FutureWarning: `distplot` is a deprecated function and will be removed in a future version. Please adapt your code to use either `displot` (a figure-level function with similar flexibility) or `histplot` (an axes-level function for histograms).\n",
            "  warnings.warn(msg, FutureWarning)\n"
          ],
          "name": "stderr"
        },
        {
          "output_type": "execute_result",
          "data": {
            "text/plain": [
              "<matplotlib.axes._subplots.AxesSubplot at 0x7f180dea0f28>"
            ]
          },
          "metadata": {
            "tags": []
          },
          "execution_count": 71
        },
        {
          "output_type": "display_data",
          "data": {
            "image/png": "[encoded data removed]",
            "text/plain": [
              "<Figure size 432x288 with 1 Axes>"
            ]
          },
          "metadata": {
            "tags": []
          }
        }
      ]
    },
    {
      "cell_type": "code",
      "metadata": {
        "colab": {
          "base_uri": "https://localhost:8080/",
          "height": 302
        },
        "id": "_IogqpW4FTsb",
        "outputId": "9addfcd1-e860-4182-e67e-3eaa002d4749"
      },
      "source": [
        "sns.boxplot(x=diabetes['insulin'])\r\n",
        "plt.axvline(diabetes['insulin'].mean(), c='y')"
      ],
      "execution_count": 116,
      "outputs": [
        {
          "output_type": "execute_result",
          "data": {
            "text/plain": [
              "<matplotlib.lines.Line2D at 0x7f180477a400>"
            ]
          },
          "metadata": {
            "tags": []
          },
          "execution_count": 116
        },
        {
          "output_type": "display_data",
          "data": {
            "image/png": "[encoded data removed]",
            "text/plain": [
              "<Figure size 432x288 with 1 Axes>"
            ]
          },
          "metadata": {
            "tags": []
          }
        }
      ]
    },
    {
      "cell_type": "code",
      "metadata": {
        "colab": {
          "base_uri": "https://localhost:8080/"
        },
        "id": "ewrQpg7eIEO_",
        "outputId": "85d3b19f-eb22-4af2-9590-41f02abbd1d7"
      },
      "source": [
        "diabetes['insulin'].groupby(pd.cut(diabetes['insulin'], 3)).count()"
      ],
      "execution_count": 133,
      "outputs": [
        {
          "output_type": "execute_result",
          "data": {
            "text/plain": [
              "insulin\n",
              "(-0.846, 282.0]    724\n",
              "(282.0, 564.0]      39\n",
              "(564.0, 846.0]       5\n",
              "Name: insulin, dtype: int64"
            ]
          },
          "metadata": {
            "tags": []
          },
          "execution_count": 133
        }
      ]
    },
    {
      "cell_type": "code",
      "metadata": {
        "colab": {
          "base_uri": "https://localhost:8080/"
        },
        "id": "-aN7GEX68yhY",
        "outputId": "3742bbff-a9a0-4fda-cfe8-bfefb1e18592"
      },
      "source": [
        "print(f'Curtosis: {kurtosis(diabetes.skin_thickness)}')\r\n",
        "print(f'Asimetría: {skew(diabetes.skin_thickness)}')"
      ],
      "execution_count": 99,
      "outputs": [
        {
          "output_type": "stream",
          "text": [
            "Curtosis: -0.5244944887652805\n",
            "Asimetría: 0.109158762323673\n"
          ],
          "name": "stdout"
        }
      ]
    },
    {
      "cell_type": "code",
      "metadata": {
        "colab": {
          "base_uri": "https://localhost:8080/",
          "height": 356
        },
        "id": "jJgugFVO2tTc",
        "outputId": "b742c7d1-2ddd-4d95-b38c-96f3b62c0be6"
      },
      "source": [
        "sns.distplot(diabetes['bmi'], kde=False, norm_hist=False, bins=50)"
      ],
      "execution_count": 72,
      "outputs": [
        {
          "output_type": "stream",
          "text": [
            "/usr/local/lib/python3.6/dist-packages/seaborn/distributions.py:2557: FutureWarning: `distplot` is a deprecated function and will be removed in a future version. Please adapt your code to use either `displot` (a figure-level function with similar flexibility) or `histplot` (an axes-level function for histograms).\n",
            "  warnings.warn(msg, FutureWarning)\n"
          ],
          "name": "stderr"
        },
        {
          "output_type": "execute_result",
          "data": {
            "text/plain": [
              "<matplotlib.axes._subplots.AxesSubplot at 0x7f180d923e10>"
            ]
          },
          "metadata": {
            "tags": []
          },
          "execution_count": 72
        },
        {
          "output_type": "display_data",
          "data": {
            "image/png": "[encoded data removed]",
            "text/plain": [
              "<Figure size 432x288 with 1 Axes>"
            ]
          },
          "metadata": {
            "tags": []
          }
        }
      ]
    },
    {
      "cell_type": "code",
      "metadata": {
        "colab": {
          "base_uri": "https://localhost:8080/",
          "height": 302
        },
        "id": "xA1jh5QLFg0H",
        "outputId": "98bf60f9-53b6-4d8f-87f6-03c03b409458"
      },
      "source": [
        "sns.boxplot(x=diabetes['bmi'])\r\n",
        "plt.axvline(diabetes['bmi'].mean(), c='y')"
      ],
      "execution_count": 117,
      "outputs": [
        {
          "output_type": "execute_result",
          "data": {
            "text/plain": [
              "<matplotlib.lines.Line2D at 0x7f18047383c8>"
            ]
          },
          "metadata": {
            "tags": []
          },
          "execution_count": 117
        },
        {
          "output_type": "display_data",
          "data": {
            "image/png": "[encoded data removed]",
            "text/plain": [
              "<Figure size 432x288 with 1 Axes>"
            ]
          },
          "metadata": {
            "tags": []
          }
        }
      ]
    },
    {
      "cell_type": "code",
      "metadata": {
        "colab": {
          "base_uri": "https://localhost:8080/"
        },
        "id": "fSE13J4jIWjj",
        "outputId": "11b1c820-eaa5-48d2-ba12-4ecde99605a9"
      },
      "source": [
        "diabetes['bmi'].groupby(pd.cut(diabetes['bmi'], 3)).count()"
      ],
      "execution_count": 135,
      "outputs": [
        {
          "output_type": "execute_result",
          "data": {
            "text/plain": [
              "bmi\n",
              "(-0.0671, 22.367]     51\n",
              "(22.367, 44.733]     681\n",
              "(44.733, 67.1]        36\n",
              "Name: bmi, dtype: int64"
            ]
          },
          "metadata": {
            "tags": []
          },
          "execution_count": 135
        }
      ]
    },
    {
      "cell_type": "code",
      "metadata": {
        "colab": {
          "base_uri": "https://localhost:8080/"
        },
        "id": "HUckn-3x83MC",
        "outputId": "408478cc-2803-45ce-a9f1-28034555b72f"
      },
      "source": [
        "print(f'Curtosis: {kurtosis(diabetes.bmi)}')\r\n",
        "print(f'Asimetría: {skew(diabetes.bmi)}')"
      ],
      "execution_count": 100,
      "outputs": [
        {
          "output_type": "stream",
          "text": [
            "Curtosis: 3.2612574203612645\n",
            "Asimetría: -0.42814327880861786\n"
          ],
          "name": "stdout"
        }
      ]
    },
    {
      "cell_type": "code",
      "metadata": {
        "colab": {
          "base_uri": "https://localhost:8080/",
          "height": 356
        },
        "id": "EKyZZ7-n2yog",
        "outputId": "d65029e7-cf8f-4926-f642-4a27d20d4ff8"
      },
      "source": [
        "sns.distplot(diabetes['diabetes_pedigree_function'], kde=False, norm_hist=False, bins=50)"
      ],
      "execution_count": 73,
      "outputs": [
        {
          "output_type": "stream",
          "text": [
            "/usr/local/lib/python3.6/dist-packages/seaborn/distributions.py:2557: FutureWarning: `distplot` is a deprecated function and will be removed in a future version. Please adapt your code to use either `displot` (a figure-level function with similar flexibility) or `histplot` (an axes-level function for histograms).\n",
            "  warnings.warn(msg, FutureWarning)\n"
          ],
          "name": "stderr"
        },
        {
          "output_type": "execute_result",
          "data": {
            "text/plain": [
              "<matplotlib.axes._subplots.AxesSubplot at 0x7f180d63fc88>"
            ]
          },
          "metadata": {
            "tags": []
          },
          "execution_count": 73
        },
        {
          "output_type": "display_data",
          "data": {
            "image/png": "[encoded data removed]",
            "text/plain": [
              "<Figure size 432x288 with 1 Axes>"
            ]
          },
          "metadata": {
            "tags": []
          }
        }
      ]
    },
    {
      "cell_type": "code",
      "metadata": {
        "colab": {
          "base_uri": "https://localhost:8080/",
          "height": 302
        },
        "id": "ENEXsxuUFnTw",
        "outputId": "bcaea29b-ae10-4cc3-aab0-1f9b3f050b53"
      },
      "source": [
        "sns.boxplot(x=diabetes['diabetes_pedigree_function'])\r\n",
        "plt.axvline(diabetes['diabetes_pedigree_function'].mean(), c='y')"
      ],
      "execution_count": 119,
      "outputs": [
        {
          "output_type": "execute_result",
          "data": {
            "text/plain": [
              "<matplotlib.lines.Line2D at 0x7f18046c2f28>"
            ]
          },
          "metadata": {
            "tags": []
          },
          "execution_count": 119
        },
        {
          "output_type": "display_data",
          "data": {
            "image/png": "[encoded data removed]",
            "text/plain": [
              "<Figure size 432x288 with 1 Axes>"
            ]
          },
          "metadata": {
            "tags": []
          }
        }
      ]
    },
    {
      "cell_type": "code",
      "metadata": {
        "colab": {
          "base_uri": "https://localhost:8080/"
        },
        "id": "22UzjZD-Ig2I",
        "outputId": "db4b0864-4fac-4d08-d5a4-dfb99ac487e8"
      },
      "source": [
        "diabetes['diabetes_pedigree_function'].groupby(pd.cut(diabetes['diabetes_pedigree_function'], 5)).count()"
      ],
      "execution_count": 139,
      "outputs": [
        {
          "output_type": "execute_result",
          "data": {
            "text/plain": [
              "diabetes_pedigree_function\n",
              "(0.0757, 0.546]    524\n",
              "(0.546, 1.015]     194\n",
              "(1.015, 1.483]      40\n",
              "(1.483, 1.952]       6\n",
              "(1.952, 2.42]        4\n",
              "Name: diabetes_pedigree_function, dtype: int64"
            ]
          },
          "metadata": {
            "tags": []
          },
          "execution_count": 139
        }
      ]
    },
    {
      "cell_type": "code",
      "metadata": {
        "colab": {
          "base_uri": "https://localhost:8080/"
        },
        "id": "EGTQE1WQ88y8",
        "outputId": "4fd86b87-ffe1-4b93-d64d-aee74fc61cb0"
      },
      "source": [
        "print(f'Curtosis: {kurtosis(diabetes.diabetes_pedigree_function)}')\r\n",
        "print(f'Asimetría: {skew(diabetes.diabetes_pedigree_function)}')"
      ],
      "execution_count": 101,
      "outputs": [
        {
          "output_type": "stream",
          "text": [
            "Curtosis: 5.550792047551205\n",
            "Asimetría: 1.9161592037386292\n"
          ],
          "name": "stdout"
        }
      ]
    },
    {
      "cell_type": "code",
      "metadata": {
        "colab": {
          "base_uri": "https://localhost:8080/",
          "height": 357
        },
        "id": "ZsXTgoAr25Qh",
        "outputId": "bf163c3a-dfd0-447f-a278-c413d04663d0"
      },
      "source": [
        "sns.distplot(diabetes['age'], kde=False, norm_hist=False, bins=50)"
      ],
      "execution_count": 74,
      "outputs": [
        {
          "output_type": "stream",
          "text": [
            "/usr/local/lib/python3.6/dist-packages/seaborn/distributions.py:2557: FutureWarning: `distplot` is a deprecated function and will be removed in a future version. Please adapt your code to use either `displot` (a figure-level function with similar flexibility) or `histplot` (an axes-level function for histograms).\n",
            "  warnings.warn(msg, FutureWarning)\n"
          ],
          "name": "stderr"
        },
        {
          "output_type": "execute_result",
          "data": {
            "text/plain": [
              "<matplotlib.axes._subplots.AxesSubplot at 0x7f180d668208>"
            ]
          },
          "metadata": {
            "tags": []
          },
          "execution_count": 74
        },
        {
          "output_type": "display_data",
          "data": {
            "image/png": "[encoded data removed]",
            "text/plain": [
              "<Figure size 432x288 with 1 Axes>"
            ]
          },
          "metadata": {
            "tags": []
          }
        }
      ]
    },
    {
      "cell_type": "code",
      "metadata": {
        "colab": {
          "base_uri": "https://localhost:8080/",
          "height": 302
        },
        "id": "PyvLPXuQF9iy",
        "outputId": "4e8edb0b-2f1b-4d01-bb8c-8fdc681d2b4f"
      },
      "source": [
        "sns.boxplot(x=diabetes['age'])\r\n",
        "plt.axvline(diabetes['age'].mean(), c='y')"
      ],
      "execution_count": 120,
      "outputs": [
        {
          "output_type": "execute_result",
          "data": {
            "text/plain": [
              "<matplotlib.lines.Line2D at 0x7f1804697cc0>"
            ]
          },
          "metadata": {
            "tags": []
          },
          "execution_count": 120
        },
        {
          "output_type": "display_data",
          "data": {
            "image/png": "[encoded data removed]",
            "text/plain": [
              "<Figure size 432x288 with 1 Axes>"
            ]
          },
          "metadata": {
            "tags": []
          }
        }
      ]
    },
    {
      "cell_type": "code",
      "metadata": {
        "colab": {
          "base_uri": "https://localhost:8080/"
        },
        "id": "kcor5l-eI1Fp",
        "outputId": "adc4f81a-fee7-47d5-cb10-9c7bddb46be7"
      },
      "source": [
        "diabetes['age'].groupby(pd.cut(diabetes['age'], 5)).count()"
      ],
      "execution_count": 140,
      "outputs": [
        {
          "output_type": "execute_result",
          "data": {
            "text/plain": [
              "age\n",
              "(20.94, 33.0]    474\n",
              "(33.0, 45.0]     176\n",
              "(45.0, 57.0]      76\n",
              "(57.0, 69.0]      39\n",
              "(69.0, 81.0]       3\n",
              "Name: age, dtype: int64"
            ]
          },
          "metadata": {
            "tags": []
          },
          "execution_count": 140
        }
      ]
    },
    {
      "cell_type": "code",
      "metadata": {
        "colab": {
          "base_uri": "https://localhost:8080/"
        },
        "id": "k7gtkjkb9BeG",
        "outputId": "0d260ca5-ac6f-4a2a-e1e9-b8f175292708"
      },
      "source": [
        "print(f'Curtosis: {kurtosis(diabetes.age)}')\r\n",
        "print(f'Asimetría: {skew(diabetes.age)}')"
      ],
      "execution_count": 102,
      "outputs": [
        {
          "output_type": "stream",
          "text": [
            "Curtosis: 0.6311769413798585\n",
            "Asimetría: 1.127389259531697\n"
          ],
          "name": "stdout"
        }
      ]
    },
    {
      "cell_type": "code",
      "metadata": {
        "colab": {
          "base_uri": "https://localhost:8080/",
          "height": 356
        },
        "id": "WnqoBOtA29Ca",
        "outputId": "1bb3b7b8-b202-4ce0-9cbe-8b806d0f4801"
      },
      "source": [
        "sns.distplot(diabetes['outcome'], kde=False, norm_hist=False, bins=50)"
      ],
      "execution_count": 105,
      "outputs": [
        {
          "output_type": "stream",
          "text": [
            "/usr/local/lib/python3.6/dist-packages/seaborn/distributions.py:2557: FutureWarning: `distplot` is a deprecated function and will be removed in a future version. Please adapt your code to use either `displot` (a figure-level function with similar flexibility) or `histplot` (an axes-level function for histograms).\n",
            "  warnings.warn(msg, FutureWarning)\n"
          ],
          "name": "stderr"
        },
        {
          "output_type": "execute_result",
          "data": {
            "text/plain": [
              "<matplotlib.axes._subplots.AxesSubplot at 0x7f1804ad59b0>"
            ]
          },
          "metadata": {
            "tags": []
          },
          "execution_count": 105
        },
        {
          "output_type": "display_data",
          "data": {
            "image/png": "[encoded data removed]",
            "text/plain": [
              "<Figure size 432x288 with 1 Axes>"
            ]
          },
          "metadata": {
            "tags": []
          }
        }
      ]
    },
    {
      "cell_type": "code",
      "metadata": {
        "colab": {
          "base_uri": "https://localhost:8080/",
          "height": 302
        },
        "id": "gnhTj6-HGCb1",
        "outputId": "fe1c87b8-492c-4e90-eef2-19206be9925c"
      },
      "source": [
        "sns.boxplot(x=diabetes['outcome'])\r\n",
        "plt.axvline(diabetes['outcome'].mean(), c='y')"
      ],
      "execution_count": 121,
      "outputs": [
        {
          "output_type": "execute_result",
          "data": {
            "text/plain": [
              "<matplotlib.lines.Line2D at 0x7f18045ed940>"
            ]
          },
          "metadata": {
            "tags": []
          },
          "execution_count": 121
        },
        {
          "output_type": "display_data",
          "data": {
            "image/png": "[encoded data removed]",
            "text/plain": [
              "<Figure size 432x288 with 1 Axes>"
            ]
          },
          "metadata": {
            "tags": []
          }
        }
      ]
    },
    {
      "cell_type": "code",
      "metadata": {
        "colab": {
          "base_uri": "https://localhost:8080/"
        },
        "id": "I1lFBdT6I_bf",
        "outputId": "b3a53d85-3494-4136-9ce9-5e6fb523b815"
      },
      "source": [
        "diabetes['outcome'].groupby(pd.cut(diabetes['outcome'], 2)).count()"
      ],
      "execution_count": 142,
      "outputs": [
        {
          "output_type": "execute_result",
          "data": {
            "text/plain": [
              "outcome\n",
              "(-0.001, 0.5]    500\n",
              "(0.5, 1.0]       268\n",
              "Name: outcome, dtype: int64"
            ]
          },
          "metadata": {
            "tags": []
          },
          "execution_count": 142
        }
      ]
    },
    {
      "cell_type": "code",
      "metadata": {
        "colab": {
          "base_uri": "https://localhost:8080/"
        },
        "id": "hPtTVg3y9Gxt",
        "outputId": "2bcb09e1-c14c-4b24-97ca-01ba830f8c57"
      },
      "source": [
        "print(f'Curtosis: {kurtosis(diabetes.outcome)}')\r\n",
        "print(f'Asimetría: {skew(diabetes.outcome)}')"
      ],
      "execution_count": 103,
      "outputs": [
        {
          "output_type": "stream",
          "text": [
            "Curtosis: -1.5983283582089547\n",
            "Asimetría: 0.6337757030614577\n"
          ],
          "name": "stdout"
        }
      ]
    },
    {
      "cell_type": "markdown",
      "metadata": {
        "id": "woa6T63XJ8SJ"
      },
      "source": [
        "# **RETO 4**"
      ]
    },
    {
      "cell_type": "code",
      "metadata": {
        "id": "K4ZXqETIKAz0"
      },
      "source": [
        "olimpiada = pd.read_csv('/content/drive/MyDrive/Colab Notebooks/Datasets/athlete_olympic_events-clean.csv', index_col=0)"
      ],
      "execution_count": 143,
      "outputs": []
    },
    {
      "cell_type": "code",
      "metadata": {
        "colab": {
          "base_uri": "https://localhost:8080/",
          "height": 235
        },
        "id": "2YBwB5J3KVUj",
        "outputId": "c94a8234-3b3c-4ad2-94ce-f47ffbef2014"
      },
      "source": [
        "olimpiada.head()"
      ],
      "execution_count": 144,
      "outputs": [
        {
          "output_type": "execute_result",
          "data": {
            "text/html": [
              "<div>\n",
              "<style scoped>\n",
              "    .dataframe tbody tr th:only-of-type {\n",
              "        vertical-align: middle;\n",
              "    }\n",
              "\n",
              "    .dataframe tbody tr th {\n",
              "        vertical-align: top;\n",
              "    }\n",
              "\n",
              "    .dataframe thead th {\n",
              "        text-align: right;\n",
              "    }\n",
              "</style>\n",
              "<table border=\"1\" class=\"dataframe\">\n",
              "  <thead>\n",
              "    <tr style=\"text-align: right;\">\n",
              "      <th></th>\n",
              "      <th>name</th>\n",
              "      <th>sex</th>\n",
              "      <th>age</th>\n",
              "      <th>height</th>\n",
              "      <th>weight</th>\n",
              "      <th>team</th>\n",
              "      <th>noc</th>\n",
              "      <th>games</th>\n",
              "      <th>year</th>\n",
              "      <th>season</th>\n",
              "      <th>city</th>\n",
              "      <th>sport</th>\n",
              "      <th>event</th>\n",
              "      <th>medal</th>\n",
              "    </tr>\n",
              "    <tr>\n",
              "      <th>athlete_id</th>\n",
              "      <th></th>\n",
              "      <th></th>\n",
              "      <th></th>\n",
              "      <th></th>\n",
              "      <th></th>\n",
              "      <th></th>\n",
              "      <th></th>\n",
              "      <th></th>\n",
              "      <th></th>\n",
              "      <th></th>\n",
              "      <th></th>\n",
              "      <th></th>\n",
              "      <th></th>\n",
              "      <th></th>\n",
              "    </tr>\n",
              "  </thead>\n",
              "  <tbody>\n",
              "    <tr>\n",
              "      <th>1</th>\n",
              "      <td>A Dijiang</td>\n",
              "      <td>M</td>\n",
              "      <td>24.0</td>\n",
              "      <td>180.0</td>\n",
              "      <td>80.0</td>\n",
              "      <td>China</td>\n",
              "      <td>CHN</td>\n",
              "      <td>1992 Summer</td>\n",
              "      <td>1992</td>\n",
              "      <td>Summer</td>\n",
              "      <td>Barcelona</td>\n",
              "      <td>Basketball</td>\n",
              "      <td>Basketball Men's Basketball</td>\n",
              "      <td>None</td>\n",
              "    </tr>\n",
              "    <tr>\n",
              "      <th>2</th>\n",
              "      <td>A Lamusi</td>\n",
              "      <td>M</td>\n",
              "      <td>23.0</td>\n",
              "      <td>170.0</td>\n",
              "      <td>60.0</td>\n",
              "      <td>China</td>\n",
              "      <td>CHN</td>\n",
              "      <td>2012 Summer</td>\n",
              "      <td>2012</td>\n",
              "      <td>Summer</td>\n",
              "      <td>London</td>\n",
              "      <td>Judo</td>\n",
              "      <td>Judo Men's Extra-Lightweight</td>\n",
              "      <td>None</td>\n",
              "    </tr>\n",
              "    <tr>\n",
              "      <th>5</th>\n",
              "      <td>Christine Jacoba Aaftink</td>\n",
              "      <td>F</td>\n",
              "      <td>21.0</td>\n",
              "      <td>185.0</td>\n",
              "      <td>82.0</td>\n",
              "      <td>Netherlands</td>\n",
              "      <td>NED</td>\n",
              "      <td>1988 Winter</td>\n",
              "      <td>1988</td>\n",
              "      <td>Winter</td>\n",
              "      <td>Calgary</td>\n",
              "      <td>Speed Skating</td>\n",
              "      <td>Speed Skating Women's 500 metres</td>\n",
              "      <td>None</td>\n",
              "    </tr>\n",
              "    <tr>\n",
              "      <th>5</th>\n",
              "      <td>Christine Jacoba Aaftink</td>\n",
              "      <td>F</td>\n",
              "      <td>21.0</td>\n",
              "      <td>185.0</td>\n",
              "      <td>82.0</td>\n",
              "      <td>Netherlands</td>\n",
              "      <td>NED</td>\n",
              "      <td>1988 Winter</td>\n",
              "      <td>1988</td>\n",
              "      <td>Winter</td>\n",
              "      <td>Calgary</td>\n",
              "      <td>Speed Skating</td>\n",
              "      <td>Speed Skating Women's 1,000 metres</td>\n",
              "      <td>None</td>\n",
              "    </tr>\n",
              "    <tr>\n",
              "      <th>5</th>\n",
              "      <td>Christine Jacoba Aaftink</td>\n",
              "      <td>F</td>\n",
              "      <td>25.0</td>\n",
              "      <td>185.0</td>\n",
              "      <td>82.0</td>\n",
              "      <td>Netherlands</td>\n",
              "      <td>NED</td>\n",
              "      <td>1992 Winter</td>\n",
              "      <td>1992</td>\n",
              "      <td>Winter</td>\n",
              "      <td>Albertville</td>\n",
              "      <td>Speed Skating</td>\n",
              "      <td>Speed Skating Women's 500 metres</td>\n",
              "      <td>None</td>\n",
              "    </tr>\n",
              "  </tbody>\n",
              "</table>\n",
              "</div>"
            ],
            "text/plain": [
              "                                name  ... medal\n",
              "athlete_id                            ...      \n",
              "1                          A Dijiang  ...  None\n",
              "2                           A Lamusi  ...  None\n",
              "5           Christine Jacoba Aaftink  ...  None\n",
              "5           Christine Jacoba Aaftink  ...  None\n",
              "5           Christine Jacoba Aaftink  ...  None\n",
              "\n",
              "[5 rows x 14 columns]"
            ]
          },
          "metadata": {
            "tags": []
          },
          "execution_count": 144
        }
      ]
    }
  ]
}